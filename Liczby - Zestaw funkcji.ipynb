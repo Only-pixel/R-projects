{
 "cells": [
  {
   "cell_type": "code",
   "execution_count": 1,
   "id": "educated-jerusalem",
   "metadata": {},
   "outputs": [],
   "source": [
    "dane <- c(4, 7, 5, 4, 0, 5, 7, 3, 1, 0)"
   ]
  },
  {
   "cell_type": "code",
   "execution_count": 12,
   "id": "developmental-index",
   "metadata": {},
   "outputs": [],
   "source": [
    "#moment centralny\n",
    "moment_centralny <- function(dane, rzad){\n",
    "    mean((dane-mean(dane))^rzad)\n",
    "}"
   ]
  },
  {
   "cell_type": "code",
   "execution_count": 13,
   "id": "tender-mexican",
   "metadata": {},
   "outputs": [],
   "source": [
    "#wariancja z próby\n",
    "wariancja_proba <- function(dane){\n",
    "    sum((dane-mean(dane))^2)/(length(dane)-1)\n",
    "}"
   ]
  },
  {
   "cell_type": "code",
   "execution_count": 14,
   "id": "affiliated-decrease",
   "metadata": {},
   "outputs": [],
   "source": [
    "#wariancja z populacji\n",
    "wariancja_popul <- function(dane){\n",
    "    sum((dane-mean(dane))^2)/(length(dane))\n",
    "}"
   ]
  },
  {
   "cell_type": "code",
   "execution_count": 15,
   "id": "advance-leadership",
   "metadata": {},
   "outputs": [],
   "source": [
    "#odchylenie standardowe z mom. centr. \n",
    "odchylenie_std <- function(dane){\n",
    "    sqrt(moment_centralny(dane,2))\n",
    "}"
   ]
  },
  {
   "cell_type": "code",
   "execution_count": 16,
   "id": "intended-production",
   "metadata": {},
   "outputs": [],
   "source": [
    "#odchylenie standardowe z próby\n",
    "odchylenie_std_proba <- function(dane){\n",
    "    sqrt(wariancja_proba(dane))\n",
    "}"
   ]
  },
  {
   "cell_type": "code",
   "execution_count": 17,
   "id": "czech-studio",
   "metadata": {},
   "outputs": [],
   "source": [
    "#odchylenie standardowe z populacji\n",
    "odchylenie_std_popul <- function(dane){\n",
    "    sqrt(wariancja_popul(dane))\n",
    "}"
   ]
  },
  {
   "cell_type": "code",
   "execution_count": 18,
   "id": "metallic-electricity",
   "metadata": {},
   "outputs": [],
   "source": [
    "#kurtoza (def. z 3 -> może być też 0)\n",
    "kurtosis <- function(dane){\n",
    "    (moment_centralny(dane,4)/odchylenie_std(dane)^4)-3\n",
    "}"
   ]
  },
  {
   "cell_type": "code",
   "execution_count": 2,
   "id": "spread-vacuum",
   "metadata": {},
   "outputs": [],
   "source": [
    "#asymetria / skośność\n",
    "skewness <- function(dane){\n",
    "    moment_centralny(dane,3)/odchylenie_std(dane)\n",
    "}"
   ]
  },
  {
   "cell_type": "code",
   "execution_count": 31,
   "id": "printable-fiber",
   "metadata": {},
   "outputs": [],
   "source": [
    "#rozstęp\n",
    "rozstep <- function(dane){\n",
    "    max(dane)-min(dane)\n",
    "}"
   ]
  },
  {
   "cell_type": "code",
   "execution_count": 21,
   "id": "sorted-stream",
   "metadata": {},
   "outputs": [],
   "source": [
    "#odstęp międzykwartylowy\n",
    "quantile_space <- function(dane){\n",
    "    quantile(dane)[4]-quantile(dane)[2]\n",
    "}"
   ]
  },
  {
   "cell_type": "code",
   "execution_count": 22,
   "id": "minute-legislation",
   "metadata": {},
   "outputs": [
    {
     "data": {
      "text/html": [
       "<style>\n",
       ".dl-inline {width: auto; margin:0; padding: 0}\n",
       ".dl-inline>dt, .dl-inline>dd {float: none; width: auto; display: inline-block}\n",
       ".dl-inline>dt::after {content: \":\\0020\"; padding-right: .5ex}\n",
       ".dl-inline>dt:not(:first-of-type) {padding-left: .5ex}\n",
       "</style><dl class=dl-inline><dt>0%</dt><dd>0</dd><dt>25%</dt><dd>1.5</dd><dt>50%</dt><dd>4</dd><dt>75%</dt><dd>5</dd><dt>100%</dt><dd>7</dd></dl>\n"
      ],
      "text/latex": [
       "\\begin{description*}\n",
       "\\item[0\\textbackslash{}\\%] 0\n",
       "\\item[25\\textbackslash{}\\%] 1.5\n",
       "\\item[50\\textbackslash{}\\%] 4\n",
       "\\item[75\\textbackslash{}\\%] 5\n",
       "\\item[100\\textbackslash{}\\%] 7\n",
       "\\end{description*}\n"
      ],
      "text/markdown": [
       "0%\n",
       ":   025%\n",
       ":   1.550%\n",
       ":   475%\n",
       ":   5100%\n",
       ":   7\n",
       "\n"
      ],
      "text/plain": [
       "  0%  25%  50%  75% 100% \n",
       " 0.0  1.5  4.0  5.0  7.0 "
      ]
     },
     "metadata": {},
     "output_type": "display_data"
    }
   ],
   "source": [
    "#kwartyle\n",
    "quantile(dane) "
   ]
  },
  {
   "cell_type": "code",
   "execution_count": 23,
   "id": "hispanic-supervision",
   "metadata": {},
   "outputs": [],
   "source": [
    "#dominanta / moda (wartość występująca najczęściej)\n",
    "getmode <- function(v) {\n",
    "   uniqv <- unique(v)\n",
    "   uniqv[which.max(tabulate(match(v, uniqv)))]\n",
    "}"
   ]
  },
  {
   "cell_type": "code",
   "execution_count": 24,
   "id": "least-electron",
   "metadata": {},
   "outputs": [],
   "source": [
    "#średnia geometryczna\n",
    "gm_mean <- function(x, na.rm=TRUE){\n",
    "  exp(sum(log(x[x > 0]), na.rm=na.rm) / length(x))\n",
    "}"
   ]
  },
  {
   "cell_type": "code",
   "execution_count": 25,
   "id": "chinese-swimming",
   "metadata": {},
   "outputs": [],
   "source": [
    "#średnia harmoniczna (wartości muszą być dodatnie)\n",
    "harmonic_mean <- function(dane){\n",
    "    1/mean(1/dane)\n",
    "}"
   ]
  },
  {
   "cell_type": "code",
   "execution_count": 26,
   "id": "persistent-structure",
   "metadata": {},
   "outputs": [
    {
     "data": {
      "text/plain": [
       "   Min. 1st Qu.  Median    Mean 3rd Qu.    Max. \n",
       "    0.0     1.5     4.0     3.6     5.0     7.0 "
      ]
     },
     "metadata": {},
     "output_type": "display_data"
    }
   ],
   "source": [
    "#wyświetla podstawowe informacje o zbiorze - kwartyle, średnie, min/max\n",
    "summary(dane)"
   ]
  },
  {
   "cell_type": "code",
   "execution_count": 28,
   "id": "naval-region",
   "metadata": {},
   "outputs": [
    {
     "data": {
      "text/html": [
       "4"
      ],
      "text/latex": [
       "4"
      ],
      "text/markdown": [
       "4"
      ],
      "text/plain": [
       "[1] 4"
      ]
     },
     "metadata": {},
     "output_type": "display_data"
    }
   ],
   "source": [
    "median(dane)\n"
   ]
  },
  {
   "cell_type": "code",
   "execution_count": 33,
   "id": "southern-window",
   "metadata": {},
   "outputs": [
    {
     "data": {
      "text/html": [
       "-1.09373168858844"
      ],
      "text/latex": [
       "-1.09373168858844"
      ],
      "text/markdown": [
       "-1.09373168858844"
      ],
      "text/plain": [
       "[1] -1.093732"
      ]
     },
     "metadata": {},
     "output_type": "display_data"
    }
   ],
   "source": [
    "skewness(dane)"
   ]
  },
  {
   "cell_type": "code",
   "execution_count": null,
   "id": "complicated-skating",
   "metadata": {},
   "outputs": [],
   "source": []
  }
 ],
 "metadata": {
  "kernelspec": {
   "display_name": "R",
   "language": "R",
   "name": "ir"
  },
  "language_info": {
   "codemirror_mode": "r",
   "file_extension": ".r",
   "mimetype": "text/x-r-source",
   "name": "R",
   "pygments_lexer": "r",
   "version": "4.0.5"
  }
 },
 "nbformat": 4,
 "nbformat_minor": 5
}
