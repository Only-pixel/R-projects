{
 "cells": [
  {
   "cell_type": "markdown",
   "id": "04e0f55c",
   "metadata": {},
   "source": [
    "June 1, 2021"
   ]
  },
  {
   "cell_type": "markdown",
   "id": "0020e6c6",
   "metadata": {},
   "source": [
    "Justyna Grunwald, 145368, I3.1"
   ]
  },
  {
   "cell_type": "markdown",
   "id": "01c573db",
   "metadata": {},
   "source": [
    "# 1. Zadanie domowe - analiza danych + testy statystyczne"
   ]
  },
  {
   "cell_type": "code",
   "execution_count": 1,
   "id": "c8a59124",
   "metadata": {},
   "outputs": [
    {
     "data": {
      "text/html": [
       "<table class=\"dataframe\">\n",
       "<caption>A data.frame: 16719 × 16</caption>\n",
       "<thead>\n",
       "\t<tr><th scope=col>Name</th><th scope=col>Platform</th><th scope=col>Year_of_Release</th><th scope=col>Genre</th><th scope=col>Publisher</th><th scope=col>NA_Sales</th><th scope=col>EU_Sales</th><th scope=col>JP_Sales</th><th scope=col>Other_Sales</th><th scope=col>Global_Sales</th><th scope=col>Critic_Score</th><th scope=col>Critic_Count</th><th scope=col>User_Score</th><th scope=col>User_Count</th><th scope=col>Developer</th><th scope=col>Rating</th></tr>\n",
       "\t<tr><th scope=col>&lt;chr&gt;</th><th scope=col>&lt;chr&gt;</th><th scope=col>&lt;chr&gt;</th><th scope=col>&lt;chr&gt;</th><th scope=col>&lt;chr&gt;</th><th scope=col>&lt;dbl&gt;</th><th scope=col>&lt;dbl&gt;</th><th scope=col>&lt;dbl&gt;</th><th scope=col>&lt;dbl&gt;</th><th scope=col>&lt;dbl&gt;</th><th scope=col>&lt;int&gt;</th><th scope=col>&lt;int&gt;</th><th scope=col>&lt;chr&gt;</th><th scope=col>&lt;int&gt;</th><th scope=col>&lt;chr&gt;</th><th scope=col>&lt;chr&gt;</th></tr>\n",
       "</thead>\n",
       "<tbody>\n",
       "\t<tr><td>Wii Sports                                  </td><td>Wii </td><td>2006</td><td>Sports      </td><td>Nintendo                   </td><td>41.36</td><td>28.96</td><td> 3.77</td><td> 8.45</td><td>82.53</td><td>76</td><td>51</td><td>8  </td><td> 322</td><td>Nintendo                         </td><td>E</td></tr>\n",
       "\t<tr><td>Super Mario Bros.                           </td><td>NES </td><td>1985</td><td>Platform    </td><td>Nintendo                   </td><td>29.08</td><td> 3.58</td><td> 6.81</td><td> 0.77</td><td>40.24</td><td>NA</td><td>NA</td><td>   </td><td>  NA</td><td>                                 </td><td> </td></tr>\n",
       "\t<tr><td>Mario Kart Wii                              </td><td>Wii </td><td>2008</td><td>Racing      </td><td>Nintendo                   </td><td>15.68</td><td>12.76</td><td> 3.79</td><td> 3.29</td><td>35.52</td><td>82</td><td>73</td><td>8.3</td><td> 709</td><td>Nintendo                         </td><td>E</td></tr>\n",
       "\t<tr><td>Wii Sports Resort                           </td><td>Wii </td><td>2009</td><td>Sports      </td><td>Nintendo                   </td><td>15.61</td><td>10.93</td><td> 3.28</td><td> 2.95</td><td>32.77</td><td>80</td><td>73</td><td>8  </td><td> 192</td><td>Nintendo                         </td><td>E</td></tr>\n",
       "\t<tr><td>Pokemon Red/Pokemon Blue                    </td><td>GB  </td><td>1996</td><td>Role-Playing</td><td>Nintendo                   </td><td>11.27</td><td> 8.89</td><td>10.22</td><td> 1.00</td><td>31.37</td><td>NA</td><td>NA</td><td>   </td><td>  NA</td><td>                                 </td><td> </td></tr>\n",
       "\t<tr><td>Tetris                                      </td><td>GB  </td><td>1989</td><td>Puzzle      </td><td>Nintendo                   </td><td>23.20</td><td> 2.26</td><td> 4.22</td><td> 0.58</td><td>30.26</td><td>NA</td><td>NA</td><td>   </td><td>  NA</td><td>                                 </td><td> </td></tr>\n",
       "\t<tr><td>New Super Mario Bros.                       </td><td>DS  </td><td>2006</td><td>Platform    </td><td>Nintendo                   </td><td>11.28</td><td> 9.14</td><td> 6.50</td><td> 2.88</td><td>29.80</td><td>89</td><td>65</td><td>8.5</td><td> 431</td><td>Nintendo                         </td><td>E</td></tr>\n",
       "\t<tr><td>Wii Play                                    </td><td>Wii </td><td>2006</td><td>Misc        </td><td>Nintendo                   </td><td>13.96</td><td> 9.18</td><td> 2.93</td><td> 2.84</td><td>28.92</td><td>58</td><td>41</td><td>6.6</td><td> 129</td><td>Nintendo                         </td><td>E</td></tr>\n",
       "\t<tr><td>New Super Mario Bros. Wii                   </td><td>Wii </td><td>2009</td><td>Platform    </td><td>Nintendo                   </td><td>14.44</td><td> 6.94</td><td> 4.70</td><td> 2.24</td><td>28.32</td><td>87</td><td>80</td><td>8.4</td><td> 594</td><td>Nintendo                         </td><td>E</td></tr>\n",
       "\t<tr><td>Duck Hunt                                   </td><td>NES </td><td>1984</td><td>Shooter     </td><td>Nintendo                   </td><td>26.93</td><td> 0.63</td><td> 0.28</td><td> 0.47</td><td>28.31</td><td>NA</td><td>NA</td><td>   </td><td>  NA</td><td>                                 </td><td> </td></tr>\n",
       "\t<tr><td>Nintendogs                                  </td><td>DS  </td><td>2005</td><td>Simulation  </td><td>Nintendo                   </td><td> 9.05</td><td>10.95</td><td> 1.93</td><td> 2.74</td><td>24.67</td><td>NA</td><td>NA</td><td>   </td><td>  NA</td><td>                                 </td><td> </td></tr>\n",
       "\t<tr><td>Mario Kart DS                               </td><td>DS  </td><td>2005</td><td>Racing      </td><td>Nintendo                   </td><td> 9.71</td><td> 7.47</td><td> 4.13</td><td> 1.90</td><td>23.21</td><td>91</td><td>64</td><td>8.6</td><td> 464</td><td>Nintendo                         </td><td>E</td></tr>\n",
       "\t<tr><td>Pokemon Gold/Pokemon Silver                 </td><td>GB  </td><td>1999</td><td>Role-Playing</td><td>Nintendo                   </td><td> 9.00</td><td> 6.18</td><td> 7.20</td><td> 0.71</td><td>23.10</td><td>NA</td><td>NA</td><td>   </td><td>  NA</td><td>                                 </td><td> </td></tr>\n",
       "\t<tr><td>Wii Fit                                     </td><td>Wii </td><td>2007</td><td>Sports      </td><td>Nintendo                   </td><td> 8.92</td><td> 8.03</td><td> 3.60</td><td> 2.15</td><td>22.70</td><td>80</td><td>63</td><td>7.7</td><td> 146</td><td>Nintendo                         </td><td>E</td></tr>\n",
       "\t<tr><td>Kinect Adventures!                          </td><td>X360</td><td>2010</td><td>Misc        </td><td>Microsoft Game Studios     </td><td>15.00</td><td> 4.89</td><td> 0.24</td><td> 1.69</td><td>21.81</td><td>61</td><td>45</td><td>6.3</td><td> 106</td><td>Good Science Studio              </td><td>E</td></tr>\n",
       "\t<tr><td>Wii Fit Plus                                </td><td>Wii </td><td>2009</td><td>Sports      </td><td>Nintendo                   </td><td> 9.01</td><td> 8.49</td><td> 2.53</td><td> 1.77</td><td>21.79</td><td>80</td><td>33</td><td>7.4</td><td>  52</td><td>Nintendo                         </td><td>E</td></tr>\n",
       "\t<tr><td>Grand Theft Auto V                          </td><td>PS3 </td><td>2013</td><td>Action      </td><td>Take-Two Interactive       </td><td> 7.02</td><td> 9.09</td><td> 0.98</td><td> 3.96</td><td>21.04</td><td>97</td><td>50</td><td>8.2</td><td>3994</td><td>Rockstar North                   </td><td>M</td></tr>\n",
       "\t<tr><td>Grand Theft Auto: San Andreas               </td><td>PS2 </td><td>2004</td><td>Action      </td><td>Take-Two Interactive       </td><td> 9.43</td><td> 0.40</td><td> 0.41</td><td>10.57</td><td>20.81</td><td>95</td><td>80</td><td>9  </td><td>1588</td><td>Rockstar North                   </td><td>M</td></tr>\n",
       "\t<tr><td>Super Mario World                           </td><td>SNES</td><td>1990</td><td>Platform    </td><td>Nintendo                   </td><td>12.78</td><td> 3.75</td><td> 3.54</td><td> 0.55</td><td>20.61</td><td>NA</td><td>NA</td><td>   </td><td>  NA</td><td>                                 </td><td> </td></tr>\n",
       "\t<tr><td>Brain Age: Train Your Brain in Minutes a Day</td><td>DS  </td><td>2005</td><td>Misc        </td><td>Nintendo                   </td><td> 4.74</td><td> 9.20</td><td> 4.16</td><td> 2.04</td><td>20.15</td><td>77</td><td>58</td><td>7.9</td><td>  50</td><td>Nintendo                         </td><td>E</td></tr>\n",
       "\t<tr><td>Pokemon Diamond/Pokemon Pearl               </td><td>DS  </td><td>2006</td><td>Role-Playing</td><td>Nintendo                   </td><td> 6.38</td><td> 4.46</td><td> 6.04</td><td> 1.36</td><td>18.25</td><td>NA</td><td>NA</td><td>   </td><td>  NA</td><td>                                 </td><td> </td></tr>\n",
       "\t<tr><td>Super Mario Land                            </td><td>GB  </td><td>1989</td><td>Platform    </td><td>Nintendo                   </td><td>10.83</td><td> 2.71</td><td> 4.18</td><td> 0.42</td><td>18.14</td><td>NA</td><td>NA</td><td>   </td><td>  NA</td><td>                                 </td><td> </td></tr>\n",
       "\t<tr><td>Super Mario Bros. 3                         </td><td>NES </td><td>1988</td><td>Platform    </td><td>Nintendo                   </td><td> 9.54</td><td> 3.44</td><td> 3.84</td><td> 0.46</td><td>17.28</td><td>NA</td><td>NA</td><td>   </td><td>  NA</td><td>                                 </td><td> </td></tr>\n",
       "\t<tr><td>Grand Theft Auto V                          </td><td>X360</td><td>2013</td><td>Action      </td><td>Take-Two Interactive       </td><td> 9.66</td><td> 5.14</td><td> 0.06</td><td> 1.41</td><td>16.27</td><td>97</td><td>58</td><td>8.1</td><td>3711</td><td>Rockstar North                   </td><td>M</td></tr>\n",
       "\t<tr><td>Grand Theft Auto: Vice City                 </td><td>PS2 </td><td>2002</td><td>Action      </td><td>Take-Two Interactive       </td><td> 8.41</td><td> 5.49</td><td> 0.47</td><td> 1.78</td><td>16.15</td><td>95</td><td>62</td><td>8.7</td><td> 730</td><td>Rockstar North                   </td><td>M</td></tr>\n",
       "\t<tr><td>Pokemon Ruby/Pokemon Sapphire               </td><td>GBA </td><td>2002</td><td>Role-Playing</td><td>Nintendo                   </td><td> 6.06</td><td> 3.90</td><td> 5.38</td><td> 0.50</td><td>15.85</td><td>NA</td><td>NA</td><td>   </td><td>  NA</td><td>                                 </td><td> </td></tr>\n",
       "\t<tr><td>Brain Age 2: More Training in Minutes a Day </td><td>DS  </td><td>2005</td><td>Puzzle      </td><td>Nintendo                   </td><td> 3.43</td><td> 5.35</td><td> 5.32</td><td> 1.18</td><td>15.29</td><td>77</td><td>37</td><td>7.1</td><td>  19</td><td>Nintendo                         </td><td>E</td></tr>\n",
       "\t<tr><td>Pokemon Black/Pokemon White                 </td><td>DS  </td><td>2010</td><td>Role-Playing</td><td>Nintendo                   </td><td> 5.51</td><td> 3.17</td><td> 5.65</td><td> 0.80</td><td>15.14</td><td>NA</td><td>NA</td><td>   </td><td>  NA</td><td>                                 </td><td> </td></tr>\n",
       "\t<tr><td>Gran Turismo 3: A-Spec                      </td><td>PS2 </td><td>2001</td><td>Racing      </td><td>Sony Computer Entertainment</td><td> 6.85</td><td> 5.09</td><td> 1.87</td><td> 1.16</td><td>14.98</td><td>95</td><td>54</td><td>8.4</td><td> 314</td><td>Polyphony Digital                </td><td>E</td></tr>\n",
       "\t<tr><td>Call of Duty: Modern Warfare 3              </td><td>X360</td><td>2011</td><td>Shooter     </td><td>Activision                 </td><td> 9.04</td><td> 4.24</td><td> 0.13</td><td> 1.32</td><td>14.73</td><td>88</td><td>81</td><td>3.4</td><td>8713</td><td>Infinity Ward, Sledgehammer Games</td><td>M</td></tr>\n",
       "\t<tr><td>...</td><td>...</td><td>...</td><td>...</td><td>...</td><td>...</td><td>...</td><td>...</td><td>...</td><td>...</td><td>...</td><td>...</td><td>...</td><td>...</td><td>...</td><td>...</td></tr>\n",
       "\t<tr><td>Help Wanted: 50 Wacky Jobs (jp sales)                      </td><td>Wii </td><td>2008</td><td>Simulation  </td><td>Hudson Soft                 </td><td>0.00</td><td>0.00</td><td>0.01</td><td>0</td><td>0.01</td><td>NA</td><td>NA</td><td>   </td><td> NA</td><td>                  </td><td>    </td></tr>\n",
       "\t<tr><td>Yattaman Wii: BikkuriDokkiri Machine de Mou Race da Koron  </td><td>Wii </td><td>2008</td><td>Racing      </td><td>Takara Tomy                 </td><td>0.00</td><td>0.00</td><td>0.01</td><td>0</td><td>0.01</td><td>NA</td><td>NA</td><td>   </td><td> NA</td><td>                  </td><td>    </td></tr>\n",
       "\t<tr><td>Neo Angelique Special                                      </td><td>PSP </td><td>2008</td><td>Adventure   </td><td>Tecmo Koei                  </td><td>0.00</td><td>0.00</td><td>0.01</td><td>0</td><td>0.01</td><td>NA</td><td>NA</td><td>   </td><td> NA</td><td>                  </td><td>    </td></tr>\n",
       "\t<tr><td>Outdoors Unleashed: Africa 3D                              </td><td>3DS </td><td>2011</td><td>Sports      </td><td>Mastiff                     </td><td>0.01</td><td>0.00</td><td>0.00</td><td>0</td><td>0.01</td><td>NA</td><td>NA</td><td>tbd</td><td> NA</td><td>Mastiff           </td><td>T   </td></tr>\n",
       "\t<tr><td>Real Rode                                                  </td><td>PS2 </td><td>2008</td><td>Adventure   </td><td>Kadokawa Shoten             </td><td>0.00</td><td>0.00</td><td>0.01</td><td>0</td><td>0.01</td><td>NA</td><td>NA</td><td>   </td><td> NA</td><td>                  </td><td>    </td></tr>\n",
       "\t<tr><td>Pony Friends 2                                             </td><td>PC  </td><td>2009</td><td>Simulation  </td><td>Eidos Interactive           </td><td>0.00</td><td>0.01</td><td>0.00</td><td>0</td><td>0.01</td><td>NA</td><td>NA</td><td>   </td><td> NA</td><td>                  </td><td>    </td></tr>\n",
       "\t<tr><td>Dynasty Warriors: Eiketsuden                               </td><td>PS3 </td><td>2016</td><td>Action      </td><td>Tecmo Koei                  </td><td>0.00</td><td>0.00</td><td>0.01</td><td>0</td><td>0.01</td><td>NA</td><td>NA</td><td>   </td><td> NA</td><td>                  </td><td>    </td></tr>\n",
       "\t<tr><td>Metal Gear Solid V: Ground Zeroes                          </td><td>PC  </td><td>2014</td><td>Action      </td><td>Konami Digital Entertainment</td><td>0.00</td><td>0.01</td><td>0.00</td><td>0</td><td>0.01</td><td>80</td><td>20</td><td>7.6</td><td>412</td><td>Kojima Productions</td><td>M   </td></tr>\n",
       "\t<tr><td>PGA European Tour                                          </td><td>N64 </td><td>2000</td><td>Sports      </td><td>Infogrames                  </td><td>0.01</td><td>0.00</td><td>0.00</td><td>0</td><td>0.01</td><td>NA</td><td>NA</td><td>   </td><td> NA</td><td>                  </td><td>    </td></tr>\n",
       "\t<tr><td>Carmageddon 64                                             </td><td>N64 </td><td>1999</td><td>Action      </td><td>Virgin Interactive          </td><td>0.01</td><td>0.00</td><td>0.00</td><td>0</td><td>0.01</td><td>NA</td><td>NA</td><td>   </td><td> NA</td><td>                  </td><td>    </td></tr>\n",
       "\t<tr><td>Planet Monsters                                            </td><td>GBA </td><td>2001</td><td>Action      </td><td>Titus                       </td><td>0.01</td><td>0.00</td><td>0.00</td><td>0</td><td>0.01</td><td>67</td><td> 9</td><td>tbd</td><td> NA</td><td>Planet Interactive</td><td>E   </td></tr>\n",
       "\t<tr><td>Breach                                                     </td><td>PC  </td><td>2011</td><td>Shooter     </td><td>Destineer                   </td><td>0.01</td><td>0.00</td><td>0.00</td><td>0</td><td>0.01</td><td>61</td><td>12</td><td>5.8</td><td> 43</td><td>Atomic Games      </td><td>T   </td></tr>\n",
       "\t<tr><td>Bust-A-Move 3000                                           </td><td>GC  </td><td>2003</td><td>Puzzle      </td><td>Ubisoft                     </td><td>0.01</td><td>0.00</td><td>0.00</td><td>0</td><td>0.01</td><td>53</td><td> 4</td><td>tbd</td><td> NA</td><td>Taito Corporation </td><td>E   </td></tr>\n",
       "\t<tr><td>Mega Brain Boost                                           </td><td>DS  </td><td>2008</td><td>Puzzle      </td><td>Majesco Entertainment       </td><td>0.01</td><td>0.00</td><td>0.00</td><td>0</td><td>0.01</td><td>48</td><td>10</td><td>tbd</td><td> NA</td><td>Interchannel-Holon</td><td>E   </td></tr>\n",
       "\t<tr><td>The Longest 5 Minutes                                      </td><td>PSV </td><td>2016</td><td>Action      </td><td>Nippon Ichi Software        </td><td>0.00</td><td>0.00</td><td>0.01</td><td>0</td><td>0.01</td><td>NA</td><td>NA</td><td>   </td><td> NA</td><td>                  </td><td>    </td></tr>\n",
       "\t<tr><td>Mezase!! Tsuri Master DS                                   </td><td>DS  </td><td>2009</td><td>Sports      </td><td>Hudson Soft                 </td><td>0.00</td><td>0.00</td><td>0.01</td><td>0</td><td>0.01</td><td>NA</td><td>NA</td><td>   </td><td> NA</td><td>                  </td><td>    </td></tr>\n",
       "\t<tr><td>Eiyuu Densetsu: Sora no Kiseki Material Collection Portable</td><td>PSP </td><td>2007</td><td>Role-Playing</td><td>Falcom Corporation          </td><td>0.00</td><td>0.00</td><td>0.01</td><td>0</td><td>0.01</td><td>NA</td><td>NA</td><td>   </td><td> NA</td><td>                  </td><td>    </td></tr>\n",
       "\t<tr><td>STORM: Frontline Nation                                    </td><td>PC  </td><td>2011</td><td>Strategy    </td><td>Unknown                     </td><td>0.00</td><td>0.01</td><td>0.00</td><td>0</td><td>0.01</td><td>60</td><td>12</td><td>7.2</td><td> 13</td><td>SimBin            </td><td>E10+</td></tr>\n",
       "\t<tr><td>Strawberry Nauts                                           </td><td>PSV </td><td>2016</td><td>Adventure   </td><td>Unknown                     </td><td>0.00</td><td>0.00</td><td>0.01</td><td>0</td><td>0.01</td><td>NA</td><td>NA</td><td>   </td><td> NA</td><td>                  </td><td>    </td></tr>\n",
       "\t<tr><td>Plushees                                                   </td><td>DS  </td><td>2008</td><td>Simulation  </td><td>Destineer                   </td><td>0.01</td><td>0.00</td><td>0.00</td><td>0</td><td>0.01</td><td>NA</td><td>NA</td><td>tbd</td><td> NA</td><td>Big John Games    </td><td>E   </td></tr>\n",
       "\t<tr><td>15 Days                                                    </td><td>PC  </td><td>2009</td><td>Adventure   </td><td>DTP Entertainment           </td><td>0.00</td><td>0.01</td><td>0.00</td><td>0</td><td>0.01</td><td>63</td><td> 6</td><td>5.8</td><td>  8</td><td>DTP Entertainment </td><td>    </td></tr>\n",
       "\t<tr><td>Men in Black II: Alien Escape                              </td><td>GC  </td><td>2003</td><td>Shooter     </td><td>Infogrames                  </td><td>0.01</td><td>0.00</td><td>0.00</td><td>0</td><td>0.01</td><td>NA</td><td>NA</td><td>tbd</td><td> NA</td><td>Atari             </td><td>T   </td></tr>\n",
       "\t<tr><td>Aiyoku no Eustia                                           </td><td>PSV </td><td>2014</td><td>Misc        </td><td>dramatic create             </td><td>0.00</td><td>0.00</td><td>0.01</td><td>0</td><td>0.01</td><td>NA</td><td>NA</td><td>   </td><td> NA</td><td>                  </td><td>    </td></tr>\n",
       "\t<tr><td>Woody Woodpecker in Crazy Castle 5                         </td><td>GBA </td><td>2002</td><td>Platform    </td><td>Kemco                       </td><td>0.01</td><td>0.00</td><td>0.00</td><td>0</td><td>0.01</td><td>NA</td><td>NA</td><td>   </td><td> NA</td><td>                  </td><td>    </td></tr>\n",
       "\t<tr><td>SCORE International Baja 1000: The Official Game           </td><td>PS2 </td><td>2008</td><td>Racing      </td><td>Activision                  </td><td>0.00</td><td>0.00</td><td>0.00</td><td>0</td><td>0.01</td><td>NA</td><td>NA</td><td>   </td><td> NA</td><td>                  </td><td>    </td></tr>\n",
       "\t<tr><td>Samurai Warriors: Sanada Maru                              </td><td>PS3 </td><td>2016</td><td>Action      </td><td>Tecmo Koei                  </td><td>0.00</td><td>0.00</td><td>0.01</td><td>0</td><td>0.01</td><td>NA</td><td>NA</td><td>   </td><td> NA</td><td>                  </td><td>    </td></tr>\n",
       "\t<tr><td>LMA Manager 2007                                           </td><td>X360</td><td>2006</td><td>Sports      </td><td>Codemasters                 </td><td>0.00</td><td>0.01</td><td>0.00</td><td>0</td><td>0.01</td><td>NA</td><td>NA</td><td>   </td><td> NA</td><td>                  </td><td>    </td></tr>\n",
       "\t<tr><td>Haitaka no Psychedelica                                    </td><td>PSV </td><td>2016</td><td>Adventure   </td><td>Idea Factory                </td><td>0.00</td><td>0.00</td><td>0.01</td><td>0</td><td>0.01</td><td>NA</td><td>NA</td><td>   </td><td> NA</td><td>                  </td><td>    </td></tr>\n",
       "\t<tr><td><span style=white-space:pre-wrap>Spirits &amp; Spells                                           </span></td><td>GBA </td><td>2003</td><td><span style=white-space:pre-wrap>Platform    </span></td><td><span style=white-space:pre-wrap>Wanadoo                     </span></td><td>0.01</td><td>0.00</td><td>0.00</td><td>0</td><td>0.01</td><td>NA</td><td>NA</td><td><span style=white-space:pre-wrap>   </span></td><td> NA</td><td><span style=white-space:pre-wrap>                  </span></td><td><span style=white-space:pre-wrap>    </span></td></tr>\n",
       "\t<tr><td>Winning Post 8 2016                                        </td><td>PSV </td><td>2016</td><td>Simulation  </td><td>Tecmo Koei                  </td><td>0.00</td><td>0.00</td><td>0.01</td><td>0</td><td>0.01</td><td>NA</td><td>NA</td><td>   </td><td> NA</td><td>                  </td><td>    </td></tr>\n",
       "</tbody>\n",
       "</table>\n"
      ],
      "text/latex": [
       "A data.frame: 16719 × 16\n",
       "\\begin{tabular}{llllllllllllllll}\n",
       " Name & Platform & Year\\_of\\_Release & Genre & Publisher & NA\\_Sales & EU\\_Sales & JP\\_Sales & Other\\_Sales & Global\\_Sales & Critic\\_Score & Critic\\_Count & User\\_Score & User\\_Count & Developer & Rating\\\\\n",
       " <chr> & <chr> & <chr> & <chr> & <chr> & <dbl> & <dbl> & <dbl> & <dbl> & <dbl> & <int> & <int> & <chr> & <int> & <chr> & <chr>\\\\\n",
       "\\hline\n",
       "\t Wii Sports                                   & Wii  & 2006 & Sports       & Nintendo                    & 41.36 & 28.96 &  3.77 &  8.45 & 82.53 & 76 & 51 & 8   &  322 & Nintendo                          & E\\\\\n",
       "\t Super Mario Bros.                            & NES  & 1985 & Platform     & Nintendo                    & 29.08 &  3.58 &  6.81 &  0.77 & 40.24 & NA & NA &     &   NA &                                   &  \\\\\n",
       "\t Mario Kart Wii                               & Wii  & 2008 & Racing       & Nintendo                    & 15.68 & 12.76 &  3.79 &  3.29 & 35.52 & 82 & 73 & 8.3 &  709 & Nintendo                          & E\\\\\n",
       "\t Wii Sports Resort                            & Wii  & 2009 & Sports       & Nintendo                    & 15.61 & 10.93 &  3.28 &  2.95 & 32.77 & 80 & 73 & 8   &  192 & Nintendo                          & E\\\\\n",
       "\t Pokemon Red/Pokemon Blue                     & GB   & 1996 & Role-Playing & Nintendo                    & 11.27 &  8.89 & 10.22 &  1.00 & 31.37 & NA & NA &     &   NA &                                   &  \\\\\n",
       "\t Tetris                                       & GB   & 1989 & Puzzle       & Nintendo                    & 23.20 &  2.26 &  4.22 &  0.58 & 30.26 & NA & NA &     &   NA &                                   &  \\\\\n",
       "\t New Super Mario Bros.                        & DS   & 2006 & Platform     & Nintendo                    & 11.28 &  9.14 &  6.50 &  2.88 & 29.80 & 89 & 65 & 8.5 &  431 & Nintendo                          & E\\\\\n",
       "\t Wii Play                                     & Wii  & 2006 & Misc         & Nintendo                    & 13.96 &  9.18 &  2.93 &  2.84 & 28.92 & 58 & 41 & 6.6 &  129 & Nintendo                          & E\\\\\n",
       "\t New Super Mario Bros. Wii                    & Wii  & 2009 & Platform     & Nintendo                    & 14.44 &  6.94 &  4.70 &  2.24 & 28.32 & 87 & 80 & 8.4 &  594 & Nintendo                          & E\\\\\n",
       "\t Duck Hunt                                    & NES  & 1984 & Shooter      & Nintendo                    & 26.93 &  0.63 &  0.28 &  0.47 & 28.31 & NA & NA &     &   NA &                                   &  \\\\\n",
       "\t Nintendogs                                   & DS   & 2005 & Simulation   & Nintendo                    &  9.05 & 10.95 &  1.93 &  2.74 & 24.67 & NA & NA &     &   NA &                                   &  \\\\\n",
       "\t Mario Kart DS                                & DS   & 2005 & Racing       & Nintendo                    &  9.71 &  7.47 &  4.13 &  1.90 & 23.21 & 91 & 64 & 8.6 &  464 & Nintendo                          & E\\\\\n",
       "\t Pokemon Gold/Pokemon Silver                  & GB   & 1999 & Role-Playing & Nintendo                    &  9.00 &  6.18 &  7.20 &  0.71 & 23.10 & NA & NA &     &   NA &                                   &  \\\\\n",
       "\t Wii Fit                                      & Wii  & 2007 & Sports       & Nintendo                    &  8.92 &  8.03 &  3.60 &  2.15 & 22.70 & 80 & 63 & 7.7 &  146 & Nintendo                          & E\\\\\n",
       "\t Kinect Adventures!                           & X360 & 2010 & Misc         & Microsoft Game Studios      & 15.00 &  4.89 &  0.24 &  1.69 & 21.81 & 61 & 45 & 6.3 &  106 & Good Science Studio               & E\\\\\n",
       "\t Wii Fit Plus                                 & Wii  & 2009 & Sports       & Nintendo                    &  9.01 &  8.49 &  2.53 &  1.77 & 21.79 & 80 & 33 & 7.4 &   52 & Nintendo                          & E\\\\\n",
       "\t Grand Theft Auto V                           & PS3  & 2013 & Action       & Take-Two Interactive        &  7.02 &  9.09 &  0.98 &  3.96 & 21.04 & 97 & 50 & 8.2 & 3994 & Rockstar North                    & M\\\\\n",
       "\t Grand Theft Auto: San Andreas                & PS2  & 2004 & Action       & Take-Two Interactive        &  9.43 &  0.40 &  0.41 & 10.57 & 20.81 & 95 & 80 & 9   & 1588 & Rockstar North                    & M\\\\\n",
       "\t Super Mario World                            & SNES & 1990 & Platform     & Nintendo                    & 12.78 &  3.75 &  3.54 &  0.55 & 20.61 & NA & NA &     &   NA &                                   &  \\\\\n",
       "\t Brain Age: Train Your Brain in Minutes a Day & DS   & 2005 & Misc         & Nintendo                    &  4.74 &  9.20 &  4.16 &  2.04 & 20.15 & 77 & 58 & 7.9 &   50 & Nintendo                          & E\\\\\n",
       "\t Pokemon Diamond/Pokemon Pearl                & DS   & 2006 & Role-Playing & Nintendo                    &  6.38 &  4.46 &  6.04 &  1.36 & 18.25 & NA & NA &     &   NA &                                   &  \\\\\n",
       "\t Super Mario Land                             & GB   & 1989 & Platform     & Nintendo                    & 10.83 &  2.71 &  4.18 &  0.42 & 18.14 & NA & NA &     &   NA &                                   &  \\\\\n",
       "\t Super Mario Bros. 3                          & NES  & 1988 & Platform     & Nintendo                    &  9.54 &  3.44 &  3.84 &  0.46 & 17.28 & NA & NA &     &   NA &                                   &  \\\\\n",
       "\t Grand Theft Auto V                           & X360 & 2013 & Action       & Take-Two Interactive        &  9.66 &  5.14 &  0.06 &  1.41 & 16.27 & 97 & 58 & 8.1 & 3711 & Rockstar North                    & M\\\\\n",
       "\t Grand Theft Auto: Vice City                  & PS2  & 2002 & Action       & Take-Two Interactive        &  8.41 &  5.49 &  0.47 &  1.78 & 16.15 & 95 & 62 & 8.7 &  730 & Rockstar North                    & M\\\\\n",
       "\t Pokemon Ruby/Pokemon Sapphire                & GBA  & 2002 & Role-Playing & Nintendo                    &  6.06 &  3.90 &  5.38 &  0.50 & 15.85 & NA & NA &     &   NA &                                   &  \\\\\n",
       "\t Brain Age 2: More Training in Minutes a Day  & DS   & 2005 & Puzzle       & Nintendo                    &  3.43 &  5.35 &  5.32 &  1.18 & 15.29 & 77 & 37 & 7.1 &   19 & Nintendo                          & E\\\\\n",
       "\t Pokemon Black/Pokemon White                  & DS   & 2010 & Role-Playing & Nintendo                    &  5.51 &  3.17 &  5.65 &  0.80 & 15.14 & NA & NA &     &   NA &                                   &  \\\\\n",
       "\t Gran Turismo 3: A-Spec                       & PS2  & 2001 & Racing       & Sony Computer Entertainment &  6.85 &  5.09 &  1.87 &  1.16 & 14.98 & 95 & 54 & 8.4 &  314 & Polyphony Digital                 & E\\\\\n",
       "\t Call of Duty: Modern Warfare 3               & X360 & 2011 & Shooter      & Activision                  &  9.04 &  4.24 &  0.13 &  1.32 & 14.73 & 88 & 81 & 3.4 & 8713 & Infinity Ward, Sledgehammer Games & M\\\\\n",
       "\t ... & ... & ... & ... & ... & ... & ... & ... & ... & ... & ... & ... & ... & ... & ... & ...\\\\\n",
       "\t Help Wanted: 50 Wacky Jobs (jp sales)                       & Wii  & 2008 & Simulation   & Hudson Soft                  & 0.00 & 0.00 & 0.01 & 0 & 0.01 & NA & NA &     &  NA &                    &     \\\\\n",
       "\t Yattaman Wii: BikkuriDokkiri Machine de Mou Race da Koron   & Wii  & 2008 & Racing       & Takara Tomy                  & 0.00 & 0.00 & 0.01 & 0 & 0.01 & NA & NA &     &  NA &                    &     \\\\\n",
       "\t Neo Angelique Special                                       & PSP  & 2008 & Adventure    & Tecmo Koei                   & 0.00 & 0.00 & 0.01 & 0 & 0.01 & NA & NA &     &  NA &                    &     \\\\\n",
       "\t Outdoors Unleashed: Africa 3D                               & 3DS  & 2011 & Sports       & Mastiff                      & 0.01 & 0.00 & 0.00 & 0 & 0.01 & NA & NA & tbd &  NA & Mastiff            & T   \\\\\n",
       "\t Real Rode                                                   & PS2  & 2008 & Adventure    & Kadokawa Shoten              & 0.00 & 0.00 & 0.01 & 0 & 0.01 & NA & NA &     &  NA &                    &     \\\\\n",
       "\t Pony Friends 2                                              & PC   & 2009 & Simulation   & Eidos Interactive            & 0.00 & 0.01 & 0.00 & 0 & 0.01 & NA & NA &     &  NA &                    &     \\\\\n",
       "\t Dynasty Warriors: Eiketsuden                                & PS3  & 2016 & Action       & Tecmo Koei                   & 0.00 & 0.00 & 0.01 & 0 & 0.01 & NA & NA &     &  NA &                    &     \\\\\n",
       "\t Metal Gear Solid V: Ground Zeroes                           & PC   & 2014 & Action       & Konami Digital Entertainment & 0.00 & 0.01 & 0.00 & 0 & 0.01 & 80 & 20 & 7.6 & 412 & Kojima Productions & M   \\\\\n",
       "\t PGA European Tour                                           & N64  & 2000 & Sports       & Infogrames                   & 0.01 & 0.00 & 0.00 & 0 & 0.01 & NA & NA &     &  NA &                    &     \\\\\n",
       "\t Carmageddon 64                                              & N64  & 1999 & Action       & Virgin Interactive           & 0.01 & 0.00 & 0.00 & 0 & 0.01 & NA & NA &     &  NA &                    &     \\\\\n",
       "\t Planet Monsters                                             & GBA  & 2001 & Action       & Titus                        & 0.01 & 0.00 & 0.00 & 0 & 0.01 & 67 &  9 & tbd &  NA & Planet Interactive & E   \\\\\n",
       "\t Breach                                                      & PC   & 2011 & Shooter      & Destineer                    & 0.01 & 0.00 & 0.00 & 0 & 0.01 & 61 & 12 & 5.8 &  43 & Atomic Games       & T   \\\\\n",
       "\t Bust-A-Move 3000                                            & GC   & 2003 & Puzzle       & Ubisoft                      & 0.01 & 0.00 & 0.00 & 0 & 0.01 & 53 &  4 & tbd &  NA & Taito Corporation  & E   \\\\\n",
       "\t Mega Brain Boost                                            & DS   & 2008 & Puzzle       & Majesco Entertainment        & 0.01 & 0.00 & 0.00 & 0 & 0.01 & 48 & 10 & tbd &  NA & Interchannel-Holon & E   \\\\\n",
       "\t The Longest 5 Minutes                                       & PSV  & 2016 & Action       & Nippon Ichi Software         & 0.00 & 0.00 & 0.01 & 0 & 0.01 & NA & NA &     &  NA &                    &     \\\\\n",
       "\t Mezase!! Tsuri Master DS                                    & DS   & 2009 & Sports       & Hudson Soft                  & 0.00 & 0.00 & 0.01 & 0 & 0.01 & NA & NA &     &  NA &                    &     \\\\\n",
       "\t Eiyuu Densetsu: Sora no Kiseki Material Collection Portable & PSP  & 2007 & Role-Playing & Falcom Corporation           & 0.00 & 0.00 & 0.01 & 0 & 0.01 & NA & NA &     &  NA &                    &     \\\\\n",
       "\t STORM: Frontline Nation                                     & PC   & 2011 & Strategy     & Unknown                      & 0.00 & 0.01 & 0.00 & 0 & 0.01 & 60 & 12 & 7.2 &  13 & SimBin             & E10+\\\\\n",
       "\t Strawberry Nauts                                            & PSV  & 2016 & Adventure    & Unknown                      & 0.00 & 0.00 & 0.01 & 0 & 0.01 & NA & NA &     &  NA &                    &     \\\\\n",
       "\t Plushees                                                    & DS   & 2008 & Simulation   & Destineer                    & 0.01 & 0.00 & 0.00 & 0 & 0.01 & NA & NA & tbd &  NA & Big John Games     & E   \\\\\n",
       "\t 15 Days                                                     & PC   & 2009 & Adventure    & DTP Entertainment            & 0.00 & 0.01 & 0.00 & 0 & 0.01 & 63 &  6 & 5.8 &   8 & DTP Entertainment  &     \\\\\n",
       "\t Men in Black II: Alien Escape                               & GC   & 2003 & Shooter      & Infogrames                   & 0.01 & 0.00 & 0.00 & 0 & 0.01 & NA & NA & tbd &  NA & Atari              & T   \\\\\n",
       "\t Aiyoku no Eustia                                            & PSV  & 2014 & Misc         & dramatic create              & 0.00 & 0.00 & 0.01 & 0 & 0.01 & NA & NA &     &  NA &                    &     \\\\\n",
       "\t Woody Woodpecker in Crazy Castle 5                          & GBA  & 2002 & Platform     & Kemco                        & 0.01 & 0.00 & 0.00 & 0 & 0.01 & NA & NA &     &  NA &                    &     \\\\\n",
       "\t SCORE International Baja 1000: The Official Game            & PS2  & 2008 & Racing       & Activision                   & 0.00 & 0.00 & 0.00 & 0 & 0.01 & NA & NA &     &  NA &                    &     \\\\\n",
       "\t Samurai Warriors: Sanada Maru                               & PS3  & 2016 & Action       & Tecmo Koei                   & 0.00 & 0.00 & 0.01 & 0 & 0.01 & NA & NA &     &  NA &                    &     \\\\\n",
       "\t LMA Manager 2007                                            & X360 & 2006 & Sports       & Codemasters                  & 0.00 & 0.01 & 0.00 & 0 & 0.01 & NA & NA &     &  NA &                    &     \\\\\n",
       "\t Haitaka no Psychedelica                                     & PSV  & 2016 & Adventure    & Idea Factory                 & 0.00 & 0.00 & 0.01 & 0 & 0.01 & NA & NA &     &  NA &                    &     \\\\\n",
       "\t Spirits \\& Spells                                            & GBA  & 2003 & Platform     & Wanadoo                      & 0.01 & 0.00 & 0.00 & 0 & 0.01 & NA & NA &     &  NA &                    &     \\\\\n",
       "\t Winning Post 8 2016                                         & PSV  & 2016 & Simulation   & Tecmo Koei                   & 0.00 & 0.00 & 0.01 & 0 & 0.01 & NA & NA &     &  NA &                    &     \\\\\n",
       "\\end{tabular}\n"
      ],
      "text/markdown": [
       "\n",
       "A data.frame: 16719 × 16\n",
       "\n",
       "| Name &lt;chr&gt; | Platform &lt;chr&gt; | Year_of_Release &lt;chr&gt; | Genre &lt;chr&gt; | Publisher &lt;chr&gt; | NA_Sales &lt;dbl&gt; | EU_Sales &lt;dbl&gt; | JP_Sales &lt;dbl&gt; | Other_Sales &lt;dbl&gt; | Global_Sales &lt;dbl&gt; | Critic_Score &lt;int&gt; | Critic_Count &lt;int&gt; | User_Score &lt;chr&gt; | User_Count &lt;int&gt; | Developer &lt;chr&gt; | Rating &lt;chr&gt; |\n",
       "|---|---|---|---|---|---|---|---|---|---|---|---|---|---|---|---|\n",
       "| Wii Sports                                   | Wii  | 2006 | Sports       | Nintendo                    | 41.36 | 28.96 |  3.77 |  8.45 | 82.53 | 76 | 51 | 8   |  322 | Nintendo                          | E |\n",
       "| Super Mario Bros.                            | NES  | 1985 | Platform     | Nintendo                    | 29.08 |  3.58 |  6.81 |  0.77 | 40.24 | NA | NA | <!----> |   NA | <!----> | <!----> |\n",
       "| Mario Kart Wii                               | Wii  | 2008 | Racing       | Nintendo                    | 15.68 | 12.76 |  3.79 |  3.29 | 35.52 | 82 | 73 | 8.3 |  709 | Nintendo                          | E |\n",
       "| Wii Sports Resort                            | Wii  | 2009 | Sports       | Nintendo                    | 15.61 | 10.93 |  3.28 |  2.95 | 32.77 | 80 | 73 | 8   |  192 | Nintendo                          | E |\n",
       "| Pokemon Red/Pokemon Blue                     | GB   | 1996 | Role-Playing | Nintendo                    | 11.27 |  8.89 | 10.22 |  1.00 | 31.37 | NA | NA | <!----> |   NA | <!----> | <!----> |\n",
       "| Tetris                                       | GB   | 1989 | Puzzle       | Nintendo                    | 23.20 |  2.26 |  4.22 |  0.58 | 30.26 | NA | NA | <!----> |   NA | <!----> | <!----> |\n",
       "| New Super Mario Bros.                        | DS   | 2006 | Platform     | Nintendo                    | 11.28 |  9.14 |  6.50 |  2.88 | 29.80 | 89 | 65 | 8.5 |  431 | Nintendo                          | E |\n",
       "| Wii Play                                     | Wii  | 2006 | Misc         | Nintendo                    | 13.96 |  9.18 |  2.93 |  2.84 | 28.92 | 58 | 41 | 6.6 |  129 | Nintendo                          | E |\n",
       "| New Super Mario Bros. Wii                    | Wii  | 2009 | Platform     | Nintendo                    | 14.44 |  6.94 |  4.70 |  2.24 | 28.32 | 87 | 80 | 8.4 |  594 | Nintendo                          | E |\n",
       "| Duck Hunt                                    | NES  | 1984 | Shooter      | Nintendo                    | 26.93 |  0.63 |  0.28 |  0.47 | 28.31 | NA | NA | <!----> |   NA | <!----> | <!----> |\n",
       "| Nintendogs                                   | DS   | 2005 | Simulation   | Nintendo                    |  9.05 | 10.95 |  1.93 |  2.74 | 24.67 | NA | NA | <!----> |   NA | <!----> | <!----> |\n",
       "| Mario Kart DS                                | DS   | 2005 | Racing       | Nintendo                    |  9.71 |  7.47 |  4.13 |  1.90 | 23.21 | 91 | 64 | 8.6 |  464 | Nintendo                          | E |\n",
       "| Pokemon Gold/Pokemon Silver                  | GB   | 1999 | Role-Playing | Nintendo                    |  9.00 |  6.18 |  7.20 |  0.71 | 23.10 | NA | NA | <!----> |   NA | <!----> | <!----> |\n",
       "| Wii Fit                                      | Wii  | 2007 | Sports       | Nintendo                    |  8.92 |  8.03 |  3.60 |  2.15 | 22.70 | 80 | 63 | 7.7 |  146 | Nintendo                          | E |\n",
       "| Kinect Adventures!                           | X360 | 2010 | Misc         | Microsoft Game Studios      | 15.00 |  4.89 |  0.24 |  1.69 | 21.81 | 61 | 45 | 6.3 |  106 | Good Science Studio               | E |\n",
       "| Wii Fit Plus                                 | Wii  | 2009 | Sports       | Nintendo                    |  9.01 |  8.49 |  2.53 |  1.77 | 21.79 | 80 | 33 | 7.4 |   52 | Nintendo                          | E |\n",
       "| Grand Theft Auto V                           | PS3  | 2013 | Action       | Take-Two Interactive        |  7.02 |  9.09 |  0.98 |  3.96 | 21.04 | 97 | 50 | 8.2 | 3994 | Rockstar North                    | M |\n",
       "| Grand Theft Auto: San Andreas                | PS2  | 2004 | Action       | Take-Two Interactive        |  9.43 |  0.40 |  0.41 | 10.57 | 20.81 | 95 | 80 | 9   | 1588 | Rockstar North                    | M |\n",
       "| Super Mario World                            | SNES | 1990 | Platform     | Nintendo                    | 12.78 |  3.75 |  3.54 |  0.55 | 20.61 | NA | NA | <!----> |   NA | <!----> | <!----> |\n",
       "| Brain Age: Train Your Brain in Minutes a Day | DS   | 2005 | Misc         | Nintendo                    |  4.74 |  9.20 |  4.16 |  2.04 | 20.15 | 77 | 58 | 7.9 |   50 | Nintendo                          | E |\n",
       "| Pokemon Diamond/Pokemon Pearl                | DS   | 2006 | Role-Playing | Nintendo                    |  6.38 |  4.46 |  6.04 |  1.36 | 18.25 | NA | NA | <!----> |   NA | <!----> | <!----> |\n",
       "| Super Mario Land                             | GB   | 1989 | Platform     | Nintendo                    | 10.83 |  2.71 |  4.18 |  0.42 | 18.14 | NA | NA | <!----> |   NA | <!----> | <!----> |\n",
       "| Super Mario Bros. 3                          | NES  | 1988 | Platform     | Nintendo                    |  9.54 |  3.44 |  3.84 |  0.46 | 17.28 | NA | NA | <!----> |   NA | <!----> | <!----> |\n",
       "| Grand Theft Auto V                           | X360 | 2013 | Action       | Take-Two Interactive        |  9.66 |  5.14 |  0.06 |  1.41 | 16.27 | 97 | 58 | 8.1 | 3711 | Rockstar North                    | M |\n",
       "| Grand Theft Auto: Vice City                  | PS2  | 2002 | Action       | Take-Two Interactive        |  8.41 |  5.49 |  0.47 |  1.78 | 16.15 | 95 | 62 | 8.7 |  730 | Rockstar North                    | M |\n",
       "| Pokemon Ruby/Pokemon Sapphire                | GBA  | 2002 | Role-Playing | Nintendo                    |  6.06 |  3.90 |  5.38 |  0.50 | 15.85 | NA | NA | <!----> |   NA | <!----> | <!----> |\n",
       "| Brain Age 2: More Training in Minutes a Day  | DS   | 2005 | Puzzle       | Nintendo                    |  3.43 |  5.35 |  5.32 |  1.18 | 15.29 | 77 | 37 | 7.1 |   19 | Nintendo                          | E |\n",
       "| Pokemon Black/Pokemon White                  | DS   | 2010 | Role-Playing | Nintendo                    |  5.51 |  3.17 |  5.65 |  0.80 | 15.14 | NA | NA | <!----> |   NA | <!----> | <!----> |\n",
       "| Gran Turismo 3: A-Spec                       | PS2  | 2001 | Racing       | Sony Computer Entertainment |  6.85 |  5.09 |  1.87 |  1.16 | 14.98 | 95 | 54 | 8.4 |  314 | Polyphony Digital                 | E |\n",
       "| Call of Duty: Modern Warfare 3               | X360 | 2011 | Shooter      | Activision                  |  9.04 |  4.24 |  0.13 |  1.32 | 14.73 | 88 | 81 | 3.4 | 8713 | Infinity Ward, Sledgehammer Games | M |\n",
       "| ... | ... | ... | ... | ... | ... | ... | ... | ... | ... | ... | ... | ... | ... | ... | ... |\n",
       "| Help Wanted: 50 Wacky Jobs (jp sales)                       | Wii  | 2008 | Simulation   | Hudson Soft                  | 0.00 | 0.00 | 0.01 | 0 | 0.01 | NA | NA | <!----> |  NA | <!----> | <!----> |\n",
       "| Yattaman Wii: BikkuriDokkiri Machine de Mou Race da Koron   | Wii  | 2008 | Racing       | Takara Tomy                  | 0.00 | 0.00 | 0.01 | 0 | 0.01 | NA | NA | <!----> |  NA | <!----> | <!----> |\n",
       "| Neo Angelique Special                                       | PSP  | 2008 | Adventure    | Tecmo Koei                   | 0.00 | 0.00 | 0.01 | 0 | 0.01 | NA | NA | <!----> |  NA | <!----> | <!----> |\n",
       "| Outdoors Unleashed: Africa 3D                               | 3DS  | 2011 | Sports       | Mastiff                      | 0.01 | 0.00 | 0.00 | 0 | 0.01 | NA | NA | tbd |  NA | Mastiff            | T    |\n",
       "| Real Rode                                                   | PS2  | 2008 | Adventure    | Kadokawa Shoten              | 0.00 | 0.00 | 0.01 | 0 | 0.01 | NA | NA | <!----> |  NA | <!----> | <!----> |\n",
       "| Pony Friends 2                                              | PC   | 2009 | Simulation   | Eidos Interactive            | 0.00 | 0.01 | 0.00 | 0 | 0.01 | NA | NA | <!----> |  NA | <!----> | <!----> |\n",
       "| Dynasty Warriors: Eiketsuden                                | PS3  | 2016 | Action       | Tecmo Koei                   | 0.00 | 0.00 | 0.01 | 0 | 0.01 | NA | NA | <!----> |  NA | <!----> | <!----> |\n",
       "| Metal Gear Solid V: Ground Zeroes                           | PC   | 2014 | Action       | Konami Digital Entertainment | 0.00 | 0.01 | 0.00 | 0 | 0.01 | 80 | 20 | 7.6 | 412 | Kojima Productions | M    |\n",
       "| PGA European Tour                                           | N64  | 2000 | Sports       | Infogrames                   | 0.01 | 0.00 | 0.00 | 0 | 0.01 | NA | NA | <!----> |  NA | <!----> | <!----> |\n",
       "| Carmageddon 64                                              | N64  | 1999 | Action       | Virgin Interactive           | 0.01 | 0.00 | 0.00 | 0 | 0.01 | NA | NA | <!----> |  NA | <!----> | <!----> |\n",
       "| Planet Monsters                                             | GBA  | 2001 | Action       | Titus                        | 0.01 | 0.00 | 0.00 | 0 | 0.01 | 67 |  9 | tbd |  NA | Planet Interactive | E    |\n",
       "| Breach                                                      | PC   | 2011 | Shooter      | Destineer                    | 0.01 | 0.00 | 0.00 | 0 | 0.01 | 61 | 12 | 5.8 |  43 | Atomic Games       | T    |\n",
       "| Bust-A-Move 3000                                            | GC   | 2003 | Puzzle       | Ubisoft                      | 0.01 | 0.00 | 0.00 | 0 | 0.01 | 53 |  4 | tbd |  NA | Taito Corporation  | E    |\n",
       "| Mega Brain Boost                                            | DS   | 2008 | Puzzle       | Majesco Entertainment        | 0.01 | 0.00 | 0.00 | 0 | 0.01 | 48 | 10 | tbd |  NA | Interchannel-Holon | E    |\n",
       "| The Longest 5 Minutes                                       | PSV  | 2016 | Action       | Nippon Ichi Software         | 0.00 | 0.00 | 0.01 | 0 | 0.01 | NA | NA | <!----> |  NA | <!----> | <!----> |\n",
       "| Mezase!! Tsuri Master DS                                    | DS   | 2009 | Sports       | Hudson Soft                  | 0.00 | 0.00 | 0.01 | 0 | 0.01 | NA | NA | <!----> |  NA | <!----> | <!----> |\n",
       "| Eiyuu Densetsu: Sora no Kiseki Material Collection Portable | PSP  | 2007 | Role-Playing | Falcom Corporation           | 0.00 | 0.00 | 0.01 | 0 | 0.01 | NA | NA | <!----> |  NA | <!----> | <!----> |\n",
       "| STORM: Frontline Nation                                     | PC   | 2011 | Strategy     | Unknown                      | 0.00 | 0.01 | 0.00 | 0 | 0.01 | 60 | 12 | 7.2 |  13 | SimBin             | E10+ |\n",
       "| Strawberry Nauts                                            | PSV  | 2016 | Adventure    | Unknown                      | 0.00 | 0.00 | 0.01 | 0 | 0.01 | NA | NA | <!----> |  NA | <!----> | <!----> |\n",
       "| Plushees                                                    | DS   | 2008 | Simulation   | Destineer                    | 0.01 | 0.00 | 0.00 | 0 | 0.01 | NA | NA | tbd |  NA | Big John Games     | E    |\n",
       "| 15 Days                                                     | PC   | 2009 | Adventure    | DTP Entertainment            | 0.00 | 0.01 | 0.00 | 0 | 0.01 | 63 |  6 | 5.8 |   8 | DTP Entertainment  | <!----> |\n",
       "| Men in Black II: Alien Escape                               | GC   | 2003 | Shooter      | Infogrames                   | 0.01 | 0.00 | 0.00 | 0 | 0.01 | NA | NA | tbd |  NA | Atari              | T    |\n",
       "| Aiyoku no Eustia                                            | PSV  | 2014 | Misc         | dramatic create              | 0.00 | 0.00 | 0.01 | 0 | 0.01 | NA | NA | <!----> |  NA | <!----> | <!----> |\n",
       "| Woody Woodpecker in Crazy Castle 5                          | GBA  | 2002 | Platform     | Kemco                        | 0.01 | 0.00 | 0.00 | 0 | 0.01 | NA | NA | <!----> |  NA | <!----> | <!----> |\n",
       "| SCORE International Baja 1000: The Official Game            | PS2  | 2008 | Racing       | Activision                   | 0.00 | 0.00 | 0.00 | 0 | 0.01 | NA | NA | <!----> |  NA | <!----> | <!----> |\n",
       "| Samurai Warriors: Sanada Maru                               | PS3  | 2016 | Action       | Tecmo Koei                   | 0.00 | 0.00 | 0.01 | 0 | 0.01 | NA | NA | <!----> |  NA | <!----> | <!----> |\n",
       "| LMA Manager 2007                                            | X360 | 2006 | Sports       | Codemasters                  | 0.00 | 0.01 | 0.00 | 0 | 0.01 | NA | NA | <!----> |  NA | <!----> | <!----> |\n",
       "| Haitaka no Psychedelica                                     | PSV  | 2016 | Adventure    | Idea Factory                 | 0.00 | 0.00 | 0.01 | 0 | 0.01 | NA | NA | <!----> |  NA | <!----> | <!----> |\n",
       "| Spirits &amp; Spells                                            | GBA  | 2003 | Platform     | Wanadoo                      | 0.01 | 0.00 | 0.00 | 0 | 0.01 | NA | NA | <!----> |  NA | <!----> | <!----> |\n",
       "| Winning Post 8 2016                                         | PSV  | 2016 | Simulation   | Tecmo Koei                   | 0.00 | 0.00 | 0.01 | 0 | 0.01 | NA | NA | <!----> |  NA | <!----> | <!----> |\n",
       "\n"
      ],
      "text/plain": [
       "      Name                                                        Platform\n",
       "1     Wii Sports                                                  Wii     \n",
       "2     Super Mario Bros.                                           NES     \n",
       "3     Mario Kart Wii                                              Wii     \n",
       "4     Wii Sports Resort                                           Wii     \n",
       "5     Pokemon Red/Pokemon Blue                                    GB      \n",
       "6     Tetris                                                      GB      \n",
       "7     New Super Mario Bros.                                       DS      \n",
       "8     Wii Play                                                    Wii     \n",
       "9     New Super Mario Bros. Wii                                   Wii     \n",
       "10    Duck Hunt                                                   NES     \n",
       "11    Nintendogs                                                  DS      \n",
       "12    Mario Kart DS                                               DS      \n",
       "13    Pokemon Gold/Pokemon Silver                                 GB      \n",
       "14    Wii Fit                                                     Wii     \n",
       "15    Kinect Adventures!                                          X360    \n",
       "16    Wii Fit Plus                                                Wii     \n",
       "17    Grand Theft Auto V                                          PS3     \n",
       "18    Grand Theft Auto: San Andreas                               PS2     \n",
       "19    Super Mario World                                           SNES    \n",
       "20    Brain Age: Train Your Brain in Minutes a Day                DS      \n",
       "21    Pokemon Diamond/Pokemon Pearl                               DS      \n",
       "22    Super Mario Land                                            GB      \n",
       "23    Super Mario Bros. 3                                         NES     \n",
       "24    Grand Theft Auto V                                          X360    \n",
       "25    Grand Theft Auto: Vice City                                 PS2     \n",
       "26    Pokemon Ruby/Pokemon Sapphire                               GBA     \n",
       "27    Brain Age 2: More Training in Minutes a Day                 DS      \n",
       "28    Pokemon Black/Pokemon White                                 DS      \n",
       "29    Gran Turismo 3: A-Spec                                      PS2     \n",
       "30    Call of Duty: Modern Warfare 3                              X360    \n",
       "...   ...                                                         ...     \n",
       "16690 Help Wanted: 50 Wacky Jobs (jp sales)                       Wii     \n",
       "16691 Yattaman Wii: BikkuriDokkiri Machine de Mou Race da Koron   Wii     \n",
       "16692 Neo Angelique Special                                       PSP     \n",
       "16693 Outdoors Unleashed: Africa 3D                               3DS     \n",
       "16694 Real Rode                                                   PS2     \n",
       "16695 Pony Friends 2                                              PC      \n",
       "16696 Dynasty Warriors: Eiketsuden                                PS3     \n",
       "16697 Metal Gear Solid V: Ground Zeroes                           PC      \n",
       "16698 PGA European Tour                                           N64     \n",
       "16699 Carmageddon 64                                              N64     \n",
       "16700 Planet Monsters                                             GBA     \n",
       "16701 Breach                                                      PC      \n",
       "16702 Bust-A-Move 3000                                            GC      \n",
       "16703 Mega Brain Boost                                            DS      \n",
       "16704 The Longest 5 Minutes                                       PSV     \n",
       "16705 Mezase!! Tsuri Master DS                                    DS      \n",
       "16706 Eiyuu Densetsu: Sora no Kiseki Material Collection Portable PSP     \n",
       "16707 STORM: Frontline Nation                                     PC      \n",
       "16708 Strawberry Nauts                                            PSV     \n",
       "16709 Plushees                                                    DS      \n",
       "16710 15 Days                                                     PC      \n",
       "16711 Men in Black II: Alien Escape                               GC      \n",
       "16712 Aiyoku no Eustia                                            PSV     \n",
       "16713 Woody Woodpecker in Crazy Castle 5                          GBA     \n",
       "16714 SCORE International Baja 1000: The Official Game            PS2     \n",
       "16715 Samurai Warriors: Sanada Maru                               PS3     \n",
       "16716 LMA Manager 2007                                            X360    \n",
       "16717 Haitaka no Psychedelica                                     PSV     \n",
       "16718 Spirits & Spells                                            GBA     \n",
       "16719 Winning Post 8 2016                                         PSV     \n",
       "      Year_of_Release Genre        Publisher                    NA_Sales\n",
       "1     2006            Sports       Nintendo                     41.36   \n",
       "2     1985            Platform     Nintendo                     29.08   \n",
       "3     2008            Racing       Nintendo                     15.68   \n",
       "4     2009            Sports       Nintendo                     15.61   \n",
       "5     1996            Role-Playing Nintendo                     11.27   \n",
       "6     1989            Puzzle       Nintendo                     23.20   \n",
       "7     2006            Platform     Nintendo                     11.28   \n",
       "8     2006            Misc         Nintendo                     13.96   \n",
       "9     2009            Platform     Nintendo                     14.44   \n",
       "10    1984            Shooter      Nintendo                     26.93   \n",
       "11    2005            Simulation   Nintendo                      9.05   \n",
       "12    2005            Racing       Nintendo                      9.71   \n",
       "13    1999            Role-Playing Nintendo                      9.00   \n",
       "14    2007            Sports       Nintendo                      8.92   \n",
       "15    2010            Misc         Microsoft Game Studios       15.00   \n",
       "16    2009            Sports       Nintendo                      9.01   \n",
       "17    2013            Action       Take-Two Interactive          7.02   \n",
       "18    2004            Action       Take-Two Interactive          9.43   \n",
       "19    1990            Platform     Nintendo                     12.78   \n",
       "20    2005            Misc         Nintendo                      4.74   \n",
       "21    2006            Role-Playing Nintendo                      6.38   \n",
       "22    1989            Platform     Nintendo                     10.83   \n",
       "23    1988            Platform     Nintendo                      9.54   \n",
       "24    2013            Action       Take-Two Interactive          9.66   \n",
       "25    2002            Action       Take-Two Interactive          8.41   \n",
       "26    2002            Role-Playing Nintendo                      6.06   \n",
       "27    2005            Puzzle       Nintendo                      3.43   \n",
       "28    2010            Role-Playing Nintendo                      5.51   \n",
       "29    2001            Racing       Sony Computer Entertainment   6.85   \n",
       "30    2011            Shooter      Activision                    9.04   \n",
       "...   ...             ...          ...                          ...     \n",
       "16690 2008            Simulation   Hudson Soft                  0.00    \n",
       "16691 2008            Racing       Takara Tomy                  0.00    \n",
       "16692 2008            Adventure    Tecmo Koei                   0.00    \n",
       "16693 2011            Sports       Mastiff                      0.01    \n",
       "16694 2008            Adventure    Kadokawa Shoten              0.00    \n",
       "16695 2009            Simulation   Eidos Interactive            0.00    \n",
       "16696 2016            Action       Tecmo Koei                   0.00    \n",
       "16697 2014            Action       Konami Digital Entertainment 0.00    \n",
       "16698 2000            Sports       Infogrames                   0.01    \n",
       "16699 1999            Action       Virgin Interactive           0.01    \n",
       "16700 2001            Action       Titus                        0.01    \n",
       "16701 2011            Shooter      Destineer                    0.01    \n",
       "16702 2003            Puzzle       Ubisoft                      0.01    \n",
       "16703 2008            Puzzle       Majesco Entertainment        0.01    \n",
       "16704 2016            Action       Nippon Ichi Software         0.00    \n",
       "16705 2009            Sports       Hudson Soft                  0.00    \n",
       "16706 2007            Role-Playing Falcom Corporation           0.00    \n",
       "16707 2011            Strategy     Unknown                      0.00    \n",
       "16708 2016            Adventure    Unknown                      0.00    \n",
       "16709 2008            Simulation   Destineer                    0.01    \n",
       "16710 2009            Adventure    DTP Entertainment            0.00    \n",
       "16711 2003            Shooter      Infogrames                   0.01    \n",
       "16712 2014            Misc         dramatic create              0.00    \n",
       "16713 2002            Platform     Kemco                        0.01    \n",
       "16714 2008            Racing       Activision                   0.00    \n",
       "16715 2016            Action       Tecmo Koei                   0.00    \n",
       "16716 2006            Sports       Codemasters                  0.00    \n",
       "16717 2016            Adventure    Idea Factory                 0.00    \n",
       "16718 2003            Platform     Wanadoo                      0.01    \n",
       "16719 2016            Simulation   Tecmo Koei                   0.00    \n",
       "      EU_Sales JP_Sales Other_Sales Global_Sales Critic_Score Critic_Count\n",
       "1     28.96     3.77     8.45       82.53        76           51          \n",
       "2      3.58     6.81     0.77       40.24        NA           NA          \n",
       "3     12.76     3.79     3.29       35.52        82           73          \n",
       "4     10.93     3.28     2.95       32.77        80           73          \n",
       "5      8.89    10.22     1.00       31.37        NA           NA          \n",
       "6      2.26     4.22     0.58       30.26        NA           NA          \n",
       "7      9.14     6.50     2.88       29.80        89           65          \n",
       "8      9.18     2.93     2.84       28.92        58           41          \n",
       "9      6.94     4.70     2.24       28.32        87           80          \n",
       "10     0.63     0.28     0.47       28.31        NA           NA          \n",
       "11    10.95     1.93     2.74       24.67        NA           NA          \n",
       "12     7.47     4.13     1.90       23.21        91           64          \n",
       "13     6.18     7.20     0.71       23.10        NA           NA          \n",
       "14     8.03     3.60     2.15       22.70        80           63          \n",
       "15     4.89     0.24     1.69       21.81        61           45          \n",
       "16     8.49     2.53     1.77       21.79        80           33          \n",
       "17     9.09     0.98     3.96       21.04        97           50          \n",
       "18     0.40     0.41    10.57       20.81        95           80          \n",
       "19     3.75     3.54     0.55       20.61        NA           NA          \n",
       "20     9.20     4.16     2.04       20.15        77           58          \n",
       "21     4.46     6.04     1.36       18.25        NA           NA          \n",
       "22     2.71     4.18     0.42       18.14        NA           NA          \n",
       "23     3.44     3.84     0.46       17.28        NA           NA          \n",
       "24     5.14     0.06     1.41       16.27        97           58          \n",
       "25     5.49     0.47     1.78       16.15        95           62          \n",
       "26     3.90     5.38     0.50       15.85        NA           NA          \n",
       "27     5.35     5.32     1.18       15.29        77           37          \n",
       "28     3.17     5.65     0.80       15.14        NA           NA          \n",
       "29     5.09     1.87     1.16       14.98        95           54          \n",
       "30     4.24     0.13     1.32       14.73        88           81          \n",
       "...   ...      ...      ...         ...          ...          ...         \n",
       "16690 0.00     0.01     0           0.01         NA           NA          \n",
       "16691 0.00     0.01     0           0.01         NA           NA          \n",
       "16692 0.00     0.01     0           0.01         NA           NA          \n",
       "16693 0.00     0.00     0           0.01         NA           NA          \n",
       "16694 0.00     0.01     0           0.01         NA           NA          \n",
       "16695 0.01     0.00     0           0.01         NA           NA          \n",
       "16696 0.00     0.01     0           0.01         NA           NA          \n",
       "16697 0.01     0.00     0           0.01         80           20          \n",
       "16698 0.00     0.00     0           0.01         NA           NA          \n",
       "16699 0.00     0.00     0           0.01         NA           NA          \n",
       "16700 0.00     0.00     0           0.01         67            9          \n",
       "16701 0.00     0.00     0           0.01         61           12          \n",
       "16702 0.00     0.00     0           0.01         53            4          \n",
       "16703 0.00     0.00     0           0.01         48           10          \n",
       "16704 0.00     0.01     0           0.01         NA           NA          \n",
       "16705 0.00     0.01     0           0.01         NA           NA          \n",
       "16706 0.00     0.01     0           0.01         NA           NA          \n",
       "16707 0.01     0.00     0           0.01         60           12          \n",
       "16708 0.00     0.01     0           0.01         NA           NA          \n",
       "16709 0.00     0.00     0           0.01         NA           NA          \n",
       "16710 0.01     0.00     0           0.01         63            6          \n",
       "16711 0.00     0.00     0           0.01         NA           NA          \n",
       "16712 0.00     0.01     0           0.01         NA           NA          \n",
       "16713 0.00     0.00     0           0.01         NA           NA          \n",
       "16714 0.00     0.00     0           0.01         NA           NA          \n",
       "16715 0.00     0.01     0           0.01         NA           NA          \n",
       "16716 0.01     0.00     0           0.01         NA           NA          \n",
       "16717 0.00     0.01     0           0.01         NA           NA          \n",
       "16718 0.00     0.00     0           0.01         NA           NA          \n",
       "16719 0.00     0.01     0           0.01         NA           NA          \n",
       "      User_Score User_Count Developer                         Rating\n",
       "1     8           322       Nintendo                          E     \n",
       "2                  NA                                               \n",
       "3     8.3         709       Nintendo                          E     \n",
       "4     8           192       Nintendo                          E     \n",
       "5                  NA                                               \n",
       "6                  NA                                               \n",
       "7     8.5         431       Nintendo                          E     \n",
       "8     6.6         129       Nintendo                          E     \n",
       "9     8.4         594       Nintendo                          E     \n",
       "10                 NA                                               \n",
       "11                 NA                                               \n",
       "12    8.6         464       Nintendo                          E     \n",
       "13                 NA                                               \n",
       "14    7.7         146       Nintendo                          E     \n",
       "15    6.3         106       Good Science Studio               E     \n",
       "16    7.4          52       Nintendo                          E     \n",
       "17    8.2        3994       Rockstar North                    M     \n",
       "18    9          1588       Rockstar North                    M     \n",
       "19                 NA                                               \n",
       "20    7.9          50       Nintendo                          E     \n",
       "21                 NA                                               \n",
       "22                 NA                                               \n",
       "23                 NA                                               \n",
       "24    8.1        3711       Rockstar North                    M     \n",
       "25    8.7         730       Rockstar North                    M     \n",
       "26                 NA                                               \n",
       "27    7.1          19       Nintendo                          E     \n",
       "28                 NA                                               \n",
       "29    8.4         314       Polyphony Digital                 E     \n",
       "30    3.4        8713       Infinity Ward, Sledgehammer Games M     \n",
       "...   ...        ...        ...                               ...   \n",
       "16690             NA                                                \n",
       "16691             NA                                                \n",
       "16692             NA                                                \n",
       "16693 tbd         NA        Mastiff                           T     \n",
       "16694             NA                                                \n",
       "16695             NA                                                \n",
       "16696             NA                                                \n",
       "16697 7.6        412        Kojima Productions                M     \n",
       "16698             NA                                                \n",
       "16699             NA                                                \n",
       "16700 tbd         NA        Planet Interactive                E     \n",
       "16701 5.8         43        Atomic Games                      T     \n",
       "16702 tbd         NA        Taito Corporation                 E     \n",
       "16703 tbd         NA        Interchannel-Holon                E     \n",
       "16704             NA                                                \n",
       "16705             NA                                                \n",
       "16706             NA                                                \n",
       "16707 7.2         13        SimBin                            E10+  \n",
       "16708             NA                                                \n",
       "16709 tbd         NA        Big John Games                    E     \n",
       "16710 5.8          8        DTP Entertainment                       \n",
       "16711 tbd         NA        Atari                             T     \n",
       "16712             NA                                                \n",
       "16713             NA                                                \n",
       "16714             NA                                                \n",
       "16715             NA                                                \n",
       "16716             NA                                                \n",
       "16717             NA                                                \n",
       "16718             NA                                                \n",
       "16719             NA                                                "
      ]
     },
     "metadata": {},
     "output_type": "display_data"
    }
   ],
   "source": [
    "Dane <- read.csv(\"Video_Games_Sales.csv\") #https://www.kaggle.com/rush4ratio/video-game-sales-with-ratings?select=Video_Games_Sales_as_at_22_Dec_2016.csv\n",
    "Dane"
   ]
  },
  {
   "cell_type": "markdown",
   "id": "533241f8",
   "metadata": {},
   "source": [
    "# 2. Opis danych"
   ]
  },
  {
   "cell_type": "markdown",
   "id": "0e526182",
   "metadata": {},
   "source": [
    "Dane składają się z próby losowo wybranych tytułów gier. Tabela zawiera informacje takie jak: globalne statystyki sprzedaży jak i podzielone na kontynenty, oceny tytułów z rozróżnieniem na ocenę użytkowników i krytyków, rok wydania, platforma na którą gra została wydana i wydawcę. \n",
    "\n",
    "Sprzedaże są podawane w milionach,\n",
    "\n",
    "oceny krytyków w skali [1-100],\n",
    "\n",
    "oceny użytkowników w skali [1-10].\n",
    "\n",
    "Usunęłam z obliczeń dane, które zawierają wartości puste lub niezdefiniowane."
   ]
  },
  {
   "cell_type": "code",
   "execution_count": 2,
   "id": "def0bf34",
   "metadata": {},
   "outputs": [],
   "source": [
    "attach(Dane)\n",
    "#detach(Dane)"
   ]
  },
  {
   "cell_type": "markdown",
   "id": "fc873c4d",
   "metadata": {},
   "source": [
    "Przygotowanie danych"
   ]
  },
  {
   "cell_type": "code",
   "execution_count": 3,
   "id": "b14f7510",
   "metadata": {},
   "outputs": [],
   "source": [
    "Global_Sales<-Dane$Global_Sales[Dane$Global_Sales>0]\n",
    "EU_Sales<-Dane$EU_Sales[Dane$EU_Sales>0]\n",
    "NA_Sales<-Dane$NA_Sales[Dane$NA_Sales>0]\n",
    "Critic_Score<-Dane$Critic_Score[!is.na(Dane$Critic_Score)]\n",
    "Critic_Score<-Critic_Score[Critic_Score>0] #gra mogła dostać najniższą ocenę \"1/100\"\n",
    "User_Score<-Dane$User_Score[Dane$User_Score!=\"\"]\n",
    "User_Score<-User_Score[User_Score!=\"tbd\"]\n",
    "User_Score<-as.numeric(User_Score)\n",
    "User_Score<-User_Score[User_Score>0]"
   ]
  },
  {
   "cell_type": "markdown",
   "id": "ace29912",
   "metadata": {},
   "source": [
    "Generator, z którego póżniej korzystam do losowania danych (po wygenerowaniu danych przypisałam je ręcznie jako wektor, aby za każfym razem nie dostać innej puli danych):"
   ]
  },
  {
   "cell_type": "code",
   "execution_count": 4,
   "id": "75f4bfe8",
   "metadata": {},
   "outputs": [
    {
     "data": {
      "text/html": [
       "<table class=\"dataframe\">\n",
       "<caption>A matrix: 1 × 40 of type dbl</caption>\n",
       "<tbody>\n",
       "\t<tr><td>7.3</td><td>7.3</td><td>8.6</td><td>8.2</td><td>8.2</td><td>6.2</td><td>9.1</td><td>7.5</td><td>8.2</td><td>8.9</td><td>...</td><td>5.9</td><td>7.3</td><td>6.4</td><td>8.4</td><td>4.7</td><td>3.3</td><td>6.2</td><td>8.5</td><td>7.5</td><td>6.3</td></tr>\n",
       "</tbody>\n",
       "</table>\n"
      ],
      "text/latex": [
       "A matrix: 1 × 40 of type dbl\n",
       "\\begin{tabular}{lllllllllllllllllllll}\n",
       "\t 7.3 & 7.3 & 8.6 & 8.2 & 8.2 & 6.2 & 9.1 & 7.5 & 8.2 & 8.9 & ... & 5.9 & 7.3 & 6.4 & 8.4 & 4.7 & 3.3 & 6.2 & 8.5 & 7.5 & 6.3\\\\\n",
       "\\end{tabular}\n"
      ],
      "text/markdown": [
       "\n",
       "A matrix: 1 × 40 of type dbl\n",
       "\n",
       "| 7.3 | 7.3 | 8.6 | 8.2 | 8.2 | 6.2 | 9.1 | 7.5 | 8.2 | 8.9 | ... | 5.9 | 7.3 | 6.4 | 8.4 | 4.7 | 3.3 | 6.2 | 8.5 | 7.5 | 6.3 |\n",
       "\n"
      ],
      "text/plain": [
       "     [,1] [,2] [,3] [,4] [,5] [,6] [,7] [,8] [,9] [,10] [,11] [,12] [,13] [,14]\n",
       "[1,] 7.3  7.3  8.6  8.2  8.2  6.2  9.1  7.5  8.2  8.9   ...   5.9   7.3   6.4  \n",
       "     [,15] [,16] [,17] [,18] [,19] [,20] [,21]\n",
       "[1,] 8.4   4.7   3.3   6.2   8.5   7.5   6.3  "
      ]
     },
     "metadata": {},
     "output_type": "display_data"
    },
    {
     "data": {
      "image/png": "[encoded data removed]",
      "text/plain": [
       "Plot with title \"przyklad generowania danych na podstawie tabeli 'User_Score'\""
      ]
     },
     "metadata": {
      "image/png": {
       "height": 420,
       "width": 420
      }
     },
     "output_type": "display_data"
    }
   ],
   "source": [
    "probatt<-array(0,dim=c(1,40))\n",
    "for(i in 1:40){\n",
    "    probatt[i]<-User_Score[runif(1,min=1,max=length(User_Score))]\n",
    "}\n",
    "probatt\n",
    "hist(probatt,col=\"green\",main=\"przykład generowania danych na podstawie tabeli 'User_Score'\")"
   ]
  },
  {
   "cell_type": "markdown",
   "id": "e8bdbaa2",
   "metadata": {},
   "source": [
    "# 3. Podstawowe statystyki opisowe wybranych kolumn"
   ]
  },
  {
   "cell_type": "markdown",
   "id": "1b45b5be",
   "metadata": {},
   "source": [
    "## 3.1 Liczność danych"
   ]
  },
  {
   "cell_type": "code",
   "execution_count": 5,
   "id": "c39b66fc",
   "metadata": {},
   "outputs": [
    {
     "data": {
      "text/html": [
       "16719"
      ],
      "text/latex": [
       "16719"
      ],
      "text/markdown": [
       "16719"
      ],
      "text/plain": [
       "[1] 16719"
      ]
     },
     "metadata": {},
     "output_type": "display_data"
    }
   ],
   "source": [
    "n <- length(Year_of_Release)\n",
    "n"
   ]
  },
  {
   "cell_type": "markdown",
   "id": "ac06dd0f",
   "metadata": {},
   "source": [
    "## 3.2 Średnia"
   ]
  },
  {
   "cell_type": "code",
   "execution_count": 6,
   "id": "9e3ab330",
   "metadata": {},
   "outputs": [
    {
     "name": "stdout",
     "output_type": "stream",
     "text": [
      "[1] \"srednia sprzedazy globalnej\"\n"
     ]
    },
    {
     "data": {
      "text/html": [
       "0.533542675997368"
      ],
      "text/latex": [
       "0.533542675997368"
      ],
      "text/markdown": [
       "0.533542675997368"
      ],
      "text/plain": [
       "[1] 0.5335427"
      ]
     },
     "metadata": {},
     "output_type": "display_data"
    },
    {
     "name": "stdout",
     "output_type": "stream",
     "text": [
      "[1] \"srednia sprzedazy w europie\"\n"
     ]
    },
    {
     "data": {
      "text/html": [
       "0.223574919317658"
      ],
      "text/latex": [
       "0.223574919317658"
      ],
      "text/markdown": [
       "0.223574919317658"
      ],
      "text/plain": [
       "[1] 0.2235749"
      ]
     },
     "metadata": {},
     "output_type": "display_data"
    },
    {
     "name": "stdout",
     "output_type": "stream",
     "text": [
      "[1] \"srednia sprzedazy w pólnocnej ameryce\"\n"
     ]
    },
    {
     "data": {
      "text/html": [
       "0.360634010484928"
      ],
      "text/latex": [
       "0.360634010484928"
      ],
      "text/markdown": [
       "0.360634010484928"
      ],
      "text/plain": [
       "[1] 0.360634"
      ]
     },
     "metadata": {},
     "output_type": "display_data"
    },
    {
     "name": "stdout",
     "output_type": "stream",
     "text": [
      "[1] \"srednia ocen krytyków\"\n"
     ]
    },
    {
     "data": {
      "text/html": [
       "68.9676785055917"
      ],
      "text/latex": [
       "68.9676785055917"
      ],
      "text/markdown": [
       "68.9676785055917"
      ],
      "text/plain": [
       "[1] 68.96768"
      ]
     },
     "metadata": {},
     "output_type": "display_data"
    },
    {
     "name": "stdout",
     "output_type": "stream",
     "text": [
      "[1] \"srednia ocen uzytkowników\"\n"
     ]
    },
    {
     "data": {
      "text/html": [
       "7.12598497825801"
      ],
      "text/latex": [
       "7.12598497825801"
      ],
      "text/markdown": [
       "7.12598497825801"
      ],
      "text/plain": [
       "[1] 7.125985"
      ]
     },
     "metadata": {},
     "output_type": "display_data"
    }
   ],
   "source": [
    "mean_global_sales <- mean(Global_Sales)\n",
    "mean_eu_sales <- mean(EU_Sales) \n",
    "mean_na_sales <- mean(NA_Sales)\n",
    "\n",
    "#bez uwzgledniania ocen, które nie zostały podane\n",
    "mean_critic_score <- mean(Critic_Score)\n",
    "mean_user_score <- mean(User_Score)\n",
    "\n",
    "print(\"średnia sprzedaży globalnej\")\n",
    "mean_global_sales\n",
    "print(\"średnia sprzedaży w europie\")\n",
    "mean_eu_sales\n",
    "print(\"średnia sprzedaży w północnej ameryce\")\n",
    "mean_na_sales\n",
    "print(\"średnia ocen krytyków\")\n",
    "mean_critic_score\n",
    "print(\"średnia ocen użytkowników\")\n",
    "mean_user_score"
   ]
  },
  {
   "cell_type": "markdown",
   "id": "1cefd6a5",
   "metadata": {},
   "source": [
    "## 3.3 mediana"
   ]
  },
  {
   "cell_type": "code",
   "execution_count": 7,
   "id": "014694fc",
   "metadata": {},
   "outputs": [
    {
     "name": "stdout",
     "output_type": "stream",
     "text": [
      "[1] \"mediana sprzedazy globalnej\"\n"
     ]
    },
    {
     "data": {
      "text/html": [
       "0.17"
      ],
      "text/latex": [
       "0.17"
      ],
      "text/markdown": [
       "0.17"
      ],
      "text/plain": [
       "[1] 0.17"
      ]
     },
     "metadata": {},
     "output_type": "display_data"
    },
    {
     "name": "stdout",
     "output_type": "stream",
     "text": [
      "[1] \"mediana sprzedazy w europie\"\n"
     ]
    },
    {
     "data": {
      "text/html": [
       "0.07"
      ],
      "text/latex": [
       "0.07"
      ],
      "text/markdown": [
       "0.07"
      ],
      "text/plain": [
       "[1] 0.07"
      ]
     },
     "metadata": {},
     "output_type": "display_data"
    },
    {
     "name": "stdout",
     "output_type": "stream",
     "text": [
      "[1] \"mediana sprzedazy w pólnocnej ameryce\"\n"
     ]
    },
    {
     "data": {
      "text/html": [
       "0.14"
      ],
      "text/latex": [
       "0.14"
      ],
      "text/markdown": [
       "0.14"
      ],
      "text/plain": [
       "[1] 0.14"
      ]
     },
     "metadata": {},
     "output_type": "display_data"
    },
    {
     "name": "stdout",
     "output_type": "stream",
     "text": [
      "[1] \"mediana ocen krytyków\"\n"
     ]
    },
    {
     "data": {
      "text/html": [
       "71"
      ],
      "text/latex": [
       "71"
      ],
      "text/markdown": [
       "71"
      ],
      "text/plain": [
       "[1] 71"
      ]
     },
     "metadata": {},
     "output_type": "display_data"
    },
    {
     "name": "stdout",
     "output_type": "stream",
     "text": [
      "[1] \"mediana ocen uzytkowników\"\n"
     ]
    },
    {
     "data": {
      "text/html": [
       "7.5"
      ],
      "text/latex": [
       "7.5"
      ],
      "text/markdown": [
       "7.5"
      ],
      "text/plain": [
       "[1] 7.5"
      ]
     },
     "metadata": {},
     "output_type": "display_data"
    }
   ],
   "source": [
    "median_global_sales <- median(Global_Sales)\n",
    "median_eu_sales <- median(EU_Sales) \n",
    "median_na_sales <- median(NA_Sales)\n",
    "median_critic_score <- median(Critic_Score)\n",
    "median_user_score <- median(User_Score)\n",
    "\n",
    "print(\"mediana sprzedaży globalnej\")\n",
    "median_global_sales\n",
    "print(\"mediana sprzedaży w europie\")\n",
    "median_eu_sales\n",
    "print(\"mediana sprzedaży w północnej ameryce\")\n",
    "median_na_sales\n",
    "print(\"mediana ocen krytyków\")\n",
    "median_critic_score\n",
    "print(\"mediana ocen użytkowników\")\n",
    "median_user_score "
   ]
  },
  {
   "cell_type": "markdown",
   "id": "903213c3",
   "metadata": {},
   "source": [
    "## 3.4 wartość minimalna"
   ]
  },
  {
   "cell_type": "code",
   "execution_count": 8,
   "id": "14005507",
   "metadata": {},
   "outputs": [
    {
     "name": "stdout",
     "output_type": "stream",
     "text": [
      "[1] \"minimum sprzedazy globalnej\"\n"
     ]
    },
    {
     "data": {
      "text/html": [
       "0.01"
      ],
      "text/latex": [
       "0.01"
      ],
      "text/markdown": [
       "0.01"
      ],
      "text/plain": [
       "[1] 0.01"
      ]
     },
     "metadata": {},
     "output_type": "display_data"
    },
    {
     "name": "stdout",
     "output_type": "stream",
     "text": [
      "[1] \"minimum sprzedazy w europie\"\n"
     ]
    },
    {
     "data": {
      "text/html": [
       "0.01"
      ],
      "text/latex": [
       "0.01"
      ],
      "text/markdown": [
       "0.01"
      ],
      "text/plain": [
       "[1] 0.01"
      ]
     },
     "metadata": {},
     "output_type": "display_data"
    },
    {
     "name": "stdout",
     "output_type": "stream",
     "text": [
      "[1] \"minimum sprzedazy w pólnocnej ameryce\"\n"
     ]
    },
    {
     "data": {
      "text/html": [
       "0.01"
      ],
      "text/latex": [
       "0.01"
      ],
      "text/markdown": [
       "0.01"
      ],
      "text/plain": [
       "[1] 0.01"
      ]
     },
     "metadata": {},
     "output_type": "display_data"
    },
    {
     "name": "stdout",
     "output_type": "stream",
     "text": [
      "[1] \"minimum ocen krytyków\"\n"
     ]
    },
    {
     "data": {
      "text/html": [
       "13"
      ],
      "text/latex": [
       "13"
      ],
      "text/markdown": [
       "13"
      ],
      "text/plain": [
       "[1] 13"
      ]
     },
     "metadata": {},
     "output_type": "display_data"
    },
    {
     "name": "stdout",
     "output_type": "stream",
     "text": [
      "[1] \"minimum ocen uzytkowników\"\n"
     ]
    },
    {
     "data": {
      "text/html": [
       "0.2"
      ],
      "text/latex": [
       "0.2"
      ],
      "text/markdown": [
       "0.2"
      ],
      "text/plain": [
       "[1] 0.2"
      ]
     },
     "metadata": {},
     "output_type": "display_data"
    }
   ],
   "source": [
    "min_global_sales <- min(Global_Sales)\n",
    "min_eu_sales <- min(EU_Sales) \n",
    "min_na_sales <- min(NA_Sales)\n",
    "min_critic_score <- min(Critic_Score)\n",
    "min_user_score <- min(User_Score)\n",
    "\n",
    "print(\"minimum sprzedaży globalnej\")\n",
    "min_global_sales\n",
    "print(\"minimum sprzedaży w europie\")\n",
    "min_eu_sales\n",
    "print(\"minimum sprzedaży w północnej ameryce\")\n",
    "min_na_sales\n",
    "print(\"minimum ocen krytyków\")\n",
    "min_critic_score\n",
    "print(\"minimum ocen użytkowników\")\n",
    "min_user_score "
   ]
  },
  {
   "cell_type": "markdown",
   "id": "e23b8602",
   "metadata": {},
   "source": [
    "## 3.5 wartość maksymalna"
   ]
  },
  {
   "cell_type": "code",
   "execution_count": 9,
   "id": "85c5cd7a",
   "metadata": {},
   "outputs": [
    {
     "name": "stdout",
     "output_type": "stream",
     "text": [
      "[1] \"maksimum sprzedazy globalnej\"\n"
     ]
    },
    {
     "data": {
      "text/html": [
       "82.53"
      ],
      "text/latex": [
       "82.53"
      ],
      "text/markdown": [
       "82.53"
      ],
      "text/plain": [
       "[1] 82.53"
      ]
     },
     "metadata": {},
     "output_type": "display_data"
    },
    {
     "name": "stdout",
     "output_type": "stream",
     "text": [
      "[1] \"maksimum sprzedazy w europie\"\n"
     ]
    },
    {
     "data": {
      "text/html": [
       "28.96"
      ],
      "text/latex": [
       "28.96"
      ],
      "text/markdown": [
       "28.96"
      ],
      "text/plain": [
       "[1] 28.96"
      ]
     },
     "metadata": {},
     "output_type": "display_data"
    },
    {
     "name": "stdout",
     "output_type": "stream",
     "text": [
      "[1] \"maksimum sprzedazy w pólnocnej ameryce\"\n"
     ]
    },
    {
     "data": {
      "text/html": [
       "41.36"
      ],
      "text/latex": [
       "41.36"
      ],
      "text/markdown": [
       "41.36"
      ],
      "text/plain": [
       "[1] 41.36"
      ]
     },
     "metadata": {},
     "output_type": "display_data"
    },
    {
     "name": "stdout",
     "output_type": "stream",
     "text": [
      "[1] \"maksimum ocen krytyków\"\n"
     ]
    },
    {
     "data": {
      "text/html": [
       "98"
      ],
      "text/latex": [
       "98"
      ],
      "text/markdown": [
       "98"
      ],
      "text/plain": [
       "[1] 98"
      ]
     },
     "metadata": {},
     "output_type": "display_data"
    },
    {
     "name": "stdout",
     "output_type": "stream",
     "text": [
      "[1] \"maksimum ocen uzytkowników\"\n"
     ]
    },
    {
     "data": {
      "text/html": [
       "9.7"
      ],
      "text/latex": [
       "9.7"
      ],
      "text/markdown": [
       "9.7"
      ],
      "text/plain": [
       "[1] 9.7"
      ]
     },
     "metadata": {},
     "output_type": "display_data"
    }
   ],
   "source": [
    "max_global_sales <- max(Global_Sales)\n",
    "max_eu_sales <- max(EU_Sales) \n",
    "max_na_sales <- max(NA_Sales)\n",
    "max_critic_score <- max(Critic_Score)\n",
    "max_user_score <- max(User_Score)\n",
    "\n",
    "print(\"maksimum sprzedaży globalnej\")\n",
    "max_global_sales\n",
    "print(\"maksimum sprzedaży w europie\")\n",
    "max_eu_sales\n",
    "print(\"maksimum sprzedaży w północnej ameryce\")\n",
    "max_na_sales\n",
    "print(\"maksimum ocen krytyków\")\n",
    "max_critic_score\n",
    "print(\"maksimum ocen użytkowników\")\n",
    "max_user_score "
   ]
  },
  {
   "cell_type": "markdown",
   "id": "09eb3b47",
   "metadata": {},
   "source": [
    "## 3.6 wariancja"
   ]
  },
  {
   "cell_type": "code",
   "execution_count": 10,
   "id": "745a8bd8",
   "metadata": {},
   "outputs": [
    {
     "name": "stdout",
     "output_type": "stream",
     "text": [
      "[1] \"wariancja w sprzedazy globalnej\"\n"
     ]
    },
    {
     "data": {
      "text/html": [
       "2.39610315033501"
      ],
      "text/latex": [
       "2.39610315033501"
      ],
      "text/markdown": [
       "2.39610315033501"
      ],
      "text/plain": [
       "[1] 2.396103"
      ]
     },
     "metadata": {},
     "output_type": "display_data"
    },
    {
     "name": "stdout",
     "output_type": "stream",
     "text": [
      "[1] \"wariancja w sprzedazy w europie\"\n"
     ]
    },
    {
     "data": {
      "text/html": [
       "0.372935475874037"
      ],
      "text/latex": [
       "0.372935475874037"
      ],
      "text/markdown": [
       "0.372935475874037"
      ],
      "text/plain": [
       "[1] 0.3729355"
      ]
     },
     "metadata": {},
     "output_type": "display_data"
    },
    {
     "name": "stdout",
     "output_type": "stream",
     "text": [
      "[1] \"wariancja w sprzedazy w pólnocnej ameryce\"\n"
     ]
    },
    {
     "data": {
      "text/html": [
       "0.871275570800266"
      ],
      "text/latex": [
       "0.871275570800266"
      ],
      "text/markdown": [
       "0.871275570800266"
      ],
      "text/plain": [
       "[1] 0.8712756"
      ]
     },
     "metadata": {},
     "output_type": "display_data"
    },
    {
     "name": "stdout",
     "output_type": "stream",
     "text": [
      "[1] \"wariancja w ocenach krytyków\"\n"
     ]
    },
    {
     "data": {
      "text/html": [
       "194.272431102135"
      ],
      "text/latex": [
       "194.272431102135"
      ],
      "text/markdown": [
       "194.272431102135"
      ],
      "text/plain": [
       "[1] 194.2724"
      ]
     },
     "metadata": {},
     "output_type": "display_data"
    },
    {
     "name": "stdout",
     "output_type": "stream",
     "text": [
      "[1] \"wariancja w ocenach uzytkowników\"\n"
     ]
    },
    {
     "data": {
      "text/html": [
       "2.24362358490874"
      ],
      "text/latex": [
       "2.24362358490874"
      ],
      "text/markdown": [
       "2.24362358490874"
      ],
      "text/plain": [
       "[1] 2.243624"
      ]
     },
     "metadata": {},
     "output_type": "display_data"
    }
   ],
   "source": [
    "var_global_sales <- var(Global_Sales)\n",
    "var_eu_sales <- var(EU_Sales) \n",
    "var_na_sales <- var(NA_Sales)\n",
    "var_critic_score <- var(Critic_Score)\n",
    "var_user_score <- var(User_Score)\n",
    "\n",
    "print(\"wariancja w sprzedaży globalnej\")\n",
    "var_global_sales\n",
    "print(\"wariancja w sprzedaży w europie\")\n",
    "var_eu_sales\n",
    "print(\"wariancja w sprzedaży w północnej ameryce\")\n",
    "var_na_sales\n",
    "print(\"wariancja w ocenach krytyków\")\n",
    "var_critic_score\n",
    "print(\"wariancja w ocenach użytkowników\")\n",
    "var_user_score "
   ]
  },
  {
   "cell_type": "markdown",
   "id": "05007a26",
   "metadata": {},
   "source": [
    "## 3.7 odchylenie standardowe"
   ]
  },
  {
   "cell_type": "code",
   "execution_count": 11,
   "id": "7b9ad383",
   "metadata": {},
   "outputs": [
    {
     "name": "stdout",
     "output_type": "stream",
     "text": [
      "[1] \"odchylenie standardowe w sprzedazy globalnej\"\n"
     ]
    },
    {
     "data": {
      "text/html": [
       "1.54793512471777"
      ],
      "text/latex": [
       "1.54793512471777"
      ],
      "text/markdown": [
       "1.54793512471777"
      ],
      "text/plain": [
       "[1] 1.547935"
      ]
     },
     "metadata": {},
     "output_type": "display_data"
    },
    {
     "name": "stdout",
     "output_type": "stream",
     "text": [
      "[1] \"odchylenie standardowe w sprzedazy w europie\"\n"
     ]
    },
    {
     "data": {
      "text/html": [
       "0.610684432316755"
      ],
      "text/latex": [
       "0.610684432316755"
      ],
      "text/markdown": [
       "0.610684432316755"
      ],
      "text/plain": [
       "[1] 0.6106844"
      ]
     },
     "metadata": {},
     "output_type": "display_data"
    },
    {
     "name": "stdout",
     "output_type": "stream",
     "text": [
      "[1] \"odchylenie standardowe w sprzedazy w pólnocnej ameryce\"\n"
     ]
    },
    {
     "data": {
      "text/html": [
       "0.933421432580303"
      ],
      "text/latex": [
       "0.933421432580303"
      ],
      "text/markdown": [
       "0.933421432580303"
      ],
      "text/plain": [
       "[1] 0.9334214"
      ]
     },
     "metadata": {},
     "output_type": "display_data"
    },
    {
     "name": "stdout",
     "output_type": "stream",
     "text": [
      "[1] \"odchylenie standardowe w ocenach krytyków\"\n"
     ]
    },
    {
     "data": {
      "text/html": [
       "13.9381645528432"
      ],
      "text/latex": [
       "13.9381645528432"
      ],
      "text/markdown": [
       "13.9381645528432"
      ],
      "text/plain": [
       "[1] 13.93816"
      ]
     },
     "metadata": {},
     "output_type": "display_data"
    },
    {
     "name": "stdout",
     "output_type": "stream",
     "text": [
      "[1] \"odchylenie standardowe w ocenach uzytkowników\"\n"
     ]
    },
    {
     "data": {
      "text/html": [
       "1.49787302028868"
      ],
      "text/latex": [
       "1.49787302028868"
      ],
      "text/markdown": [
       "1.49787302028868"
      ],
      "text/plain": [
       "[1] 1.497873"
      ]
     },
     "metadata": {},
     "output_type": "display_data"
    }
   ],
   "source": [
    "od_global_sales <- sd(Global_Sales)\n",
    "od_eu_sales <- sd(EU_Sales) \n",
    "od_na_sales <- sd(NA_Sales)\n",
    "od_critic_score <- sd(Critic_Score)\n",
    "od_user_score <- sd(User_Score)\n",
    "\n",
    "print(\"odchylenie standardowe w sprzedaży globalnej\")\n",
    "od_global_sales\n",
    "print(\"odchylenie standardowe w sprzedaży w europie\")\n",
    "od_eu_sales\n",
    "print(\"odchylenie standardowe w sprzedaży w północnej ameryce\")\n",
    "od_na_sales\n",
    "print(\"odchylenie standardowe w ocenach krytyków\")\n",
    "od_critic_score\n",
    "print(\"odchylenie standardowe w ocenach użytkowników\")\n",
    "od_user_score"
   ]
  },
  {
   "cell_type": "markdown",
   "id": "a76199b4",
   "metadata": {},
   "source": [
    "## 3.8 kurtoza"
   ]
  },
  {
   "cell_type": "code",
   "execution_count": 12,
   "id": "378ab7df",
   "metadata": {},
   "outputs": [
    {
     "name": "stdout",
     "output_type": "stream",
     "text": [
      "[1] \"kurtoza w sprzedazy globalnej\"\n"
     ]
    },
    {
     "data": {
      "text/html": [
       "606.844655489549"
      ],
      "text/latex": [
       "606.844655489549"
      ],
      "text/markdown": [
       "606.844655489549"
      ],
      "text/plain": [
       "[1] 606.8447"
      ]
     },
     "metadata": {},
     "output_type": "display_data"
    },
    {
     "name": "stdout",
     "output_type": "stream",
     "text": [
      "[1] \"kurtoza w sprzedazy w europie\"\n"
     ]
    },
    {
     "data": {
      "text/html": [
       "531.03342522121"
      ],
      "text/latex": [
       "531.03342522121"
      ],
      "text/markdown": [
       "531.03342522121"
      ],
      "text/plain": [
       "[1] 531.0334"
      ]
     },
     "metadata": {},
     "output_type": "display_data"
    },
    {
     "name": "stdout",
     "output_type": "stream",
     "text": [
      "[1] \"kurtoza w sprzedazy w pólnocnej ameryce\"\n"
     ]
    },
    {
     "data": {
      "text/html": [
       "507.696178199922"
      ],
      "text/latex": [
       "507.696178199922"
      ],
      "text/markdown": [
       "507.696178199922"
      ],
      "text/plain": [
       "[1] 507.6962"
      ]
     },
     "metadata": {},
     "output_type": "display_data"
    },
    {
     "name": "stdout",
     "output_type": "stream",
     "text": [
      "[1] \"kurtoza w ocenach krytyków\"\n"
     ]
    },
    {
     "data": {
      "text/html": [
       "3.14125375097575"
      ],
      "text/latex": [
       "3.14125375097575"
      ],
      "text/markdown": [
       "3.14125375097575"
      ],
      "text/plain": [
       "[1] 3.141254"
      ]
     },
     "metadata": {},
     "output_type": "display_data"
    },
    {
     "name": "stdout",
     "output_type": "stream",
     "text": [
      "[1] \"kurtoza w ocenach uzytkowników\"\n"
     ]
    },
    {
     "data": {
      "text/html": [
       "4.68184641631393"
      ],
      "text/latex": [
       "4.68184641631393"
      ],
      "text/markdown": [
       "4.68184641631393"
      ],
      "text/plain": [
       "[1] 4.681846"
      ]
     },
     "metadata": {},
     "output_type": "display_data"
    }
   ],
   "source": [
    "kurtosis_global_sales <- sum((Global_Sales-mean_global_sales)^4)/(length(Global_Sales)*var_global_sales^2)\n",
    "kurtosis_eu_sales <- sum((EU_Sales-mean_eu_sales)^4)/(length(EU_Sales)*var_eu_sales^2) \n",
    "kurtosis_na_sales <- sum((NA_Sales-mean_na_sales)^4)/(length(NA_Sales)*var_na_sales^2)\n",
    "kurtosis_critic_score <- sum((Critic_Score-mean_critic_score)^4)/(length(Critic_Score)*var_critic_score^2)\n",
    "kurtosis_user_score <- sum((User_Score-mean_user_score)^4)/(length(User_Score)*var_user_score^2)\n",
    "\n",
    "print(\"kurtoza w sprzedaży globalnej\")\n",
    "kurtosis_global_sales\n",
    "print(\"kurtoza w sprzedaży w europie\")\n",
    "kurtosis_eu_sales\n",
    "print(\"kurtoza w sprzedaży w północnej ameryce\")\n",
    "kurtosis_na_sales\n",
    "print(\"kurtoza w ocenach krytyków\")\n",
    "kurtosis_critic_score\n",
    "print(\"kurtoza w ocenach użytkowników\")\n",
    "kurtosis_user_score"
   ]
  },
  {
   "cell_type": "markdown",
   "id": "7ff7135c",
   "metadata": {},
   "source": [
    "## 3.9 skośność"
   ]
  },
  {
   "cell_type": "code",
   "execution_count": 13,
   "id": "1a60c9c0",
   "metadata": {},
   "outputs": [
    {
     "name": "stdout",
     "output_type": "stream",
     "text": [
      "[1] \"skosnosc w sprzedazy globalnej\"\n"
     ]
    },
    {
     "data": {
      "text/html": [
       "17.3748715998077"
      ],
      "text/latex": [
       "17.3748715998077"
      ],
      "text/markdown": [
       "17.3748715998077"
      ],
      "text/plain": [
       "[1] 17.37487"
      ]
     },
     "metadata": {},
     "output_type": "display_data"
    },
    {
     "name": "stdout",
     "output_type": "stream",
     "text": [
      "[1] \"skosnosc w sprzedazy w europie\"\n"
     ]
    },
    {
     "data": {
      "text/html": [
       "15.884837134251"
      ],
      "text/latex": [
       "15.884837134251"
      ],
      "text/markdown": [
       "15.884837134251"
      ],
      "text/plain": [
       "[1] 15.88484"
      ]
     },
     "metadata": {},
     "output_type": "display_data"
    },
    {
     "name": "stdout",
     "output_type": "stream",
     "text": [
      "[1] \"skosnosc w sprzedazy w pólnocnej ameryce\"\n"
     ]
    },
    {
     "data": {
      "text/html": [
       "16.7121754222247"
      ],
      "text/latex": [
       "16.7121754222247"
      ],
      "text/markdown": [
       "16.7121754222247"
      ],
      "text/plain": [
       "[1] 16.71218"
      ]
     },
     "metadata": {},
     "output_type": "display_data"
    },
    {
     "name": "stdout",
     "output_type": "stream",
     "text": [
      "[1] \"skosnosc w ocenach krytyków\"\n"
     ]
    },
    {
     "data": {
      "text/html": [
       "-0.613420004251867"
      ],
      "text/latex": [
       "-0.613420004251867"
      ],
      "text/markdown": [
       "-0.613420004251867"
      ],
      "text/plain": [
       "[1] -0.61342"
      ]
     },
     "metadata": {},
     "output_type": "display_data"
    },
    {
     "name": "stdout",
     "output_type": "stream",
     "text": [
      "[1] \"skosnosc w ocenach uzytkowników\"\n"
     ]
    },
    {
     "data": {
      "text/html": [
       "-1.24734796663081"
      ],
      "text/latex": [
       "-1.24734796663081"
      ],
      "text/markdown": [
       "-1.24734796663081"
      ],
      "text/plain": [
       "[1] -1.247348"
      ]
     },
     "metadata": {},
     "output_type": "display_data"
    }
   ],
   "source": [
    "skewness_global_sales <- sum((Global_Sales-mean_global_sales)^3)/(length(Global_Sales)*od_global_sales^3)\n",
    "skewness_eu_sales <- sum((EU_Sales-mean_eu_sales)^3)/(length(EU_Sales)*od_eu_sales^3) \n",
    "skewness_na_sales <- sum((NA_Sales-mean_na_sales)^3)/(length(NA_Sales)*od_na_sales^3)\n",
    "skewness_critic_score <- sum((Critic_Score-mean_critic_score)^3)/(length(Critic_Score)*od_critic_score^3)\n",
    "skewness_user_score <- sum((User_Score-mean_user_score)^3)/(length(User_Score)*od_user_score^3)\n",
    "\n",
    "print(\"skośność w sprzedaży globalnej\")\n",
    "skewness_global_sales\n",
    "print(\"skośność w sprzedaży w europie\")\n",
    "skewness_eu_sales\n",
    "print(\"skośność w sprzedaży w północnej ameryce\")\n",
    "skewness_na_sales\n",
    "print(\"skośność w ocenach krytyków\")\n",
    "skewness_critic_score\n",
    "print(\"skośność w ocenach użytkowników\")\n",
    "skewness_user_score"
   ]
  },
  {
   "cell_type": "markdown",
   "id": "46889f7f",
   "metadata": {},
   "source": [
    "Z podstawowych staystyk można wyczytać:\n",
    "\n",
    "-istnieje duża różnica pomiędzy wartością minimalną a maksymalną\n",
    "\n",
    "-skośność sprzedaży świadczy o prawostronnej asymetrii rozkładu, a ujemna skośność w ocenach świadczy o lewostronnej asymetrii\n",
    "\n",
    "-dodatnia kurtoza świadczy o wartościach zbliżonych do wartości średniej, co w zdecydowanie większym stopniu widać przy sprzedażach\n",
    "\n",
    "-dodatnie odchylenie standardowe informuje o tym, że badane wielkości są oddalone od średniej, co najbardziej będzie widoczne przy ocenach krytyków"
   ]
  },
  {
   "cell_type": "markdown",
   "id": "81cf780d",
   "metadata": {},
   "source": [
    "# 4. Histogramy dotyczące sprzedaży"
   ]
  },
  {
   "cell_type": "markdown",
   "id": "a7277dcd",
   "metadata": {},
   "source": [
    "## 4.1 Przygotowanie danych - liczba przedzialow = <span>&#8730;</span> n"
   ]
  },
  {
   "cell_type": "code",
   "execution_count": 14,
   "id": "d0603538",
   "metadata": {},
   "outputs": [
    {
     "data": {
      "text/html": [
       "<table class=\"dataframe\">\n",
       "<caption>A matrix: 4 × 4 of type chr</caption>\n",
       "<tbody>\n",
       "\t<tr><td>                            </td><td>wartosc minimalna przedzialu</td><td>wartosc maksymalna przedzialu</td><td>liczba przedzialow</td></tr>\n",
       "\t<tr><td>sprzedaz globalna           </td><td>0                           </td><td>83                           </td><td>129               </td></tr>\n",
       "\t<tr><td>sprzedaz w europie          </td><td>0                           </td><td>29                           </td><td>104               </td></tr>\n",
       "\t<tr><td>sprzedaz w ameryce polnocnej</td><td>0                           </td><td>42                           </td><td>110               </td></tr>\n",
       "</tbody>\n",
       "</table>\n"
      ],
      "text/latex": [
       "A matrix: 4 × 4 of type chr\n",
       "\\begin{tabular}{llll}\n",
       "\t                              & wartosc minimalna przedzialu & wartosc maksymalna przedzialu & liczba przedzialow\\\\\n",
       "\t sprzedaz globalna            & 0                            & 83                            & 129               \\\\\n",
       "\t sprzedaz w europie           & 0                            & 29                            & 104               \\\\\n",
       "\t sprzedaz w ameryce polnocnej & 0                            & 42                            & 110               \\\\\n",
       "\\end{tabular}\n"
      ],
      "text/markdown": [
       "\n",
       "A matrix: 4 × 4 of type chr\n",
       "\n",
       "| <!----> | wartosc minimalna przedzialu | wartosc maksymalna przedzialu | liczba przedzialow |\n",
       "| sprzedaz globalna            | 0                            | 83                            | 129                |\n",
       "| sprzedaz w europie           | 0                            | 29                            | 104                |\n",
       "| sprzedaz w ameryce polnocnej | 0                            | 42                            | 110                |\n",
       "\n"
      ],
      "text/plain": [
       "     [,1]                         [,2]                        \n",
       "[1,]                              wartosc minimalna przedzialu\n",
       "[2,] sprzedaz globalna            0                           \n",
       "[3,] sprzedaz w europie           0                           \n",
       "[4,] sprzedaz w ameryce polnocnej 0                           \n",
       "     [,3]                          [,4]              \n",
       "[1,] wartosc maksymalna przedzialu liczba przedzialow\n",
       "[2,] 83                            129               \n",
       "[3,] 29                            104               \n",
       "[4,] 42                            110               "
      ]
     },
     "metadata": {},
     "output_type": "display_data"
    }
   ],
   "source": [
    "num_global <- round(sqrt(length(Global_Sales)))\n",
    "num_eu <- round(sqrt(length(EU_Sales)))\n",
    "num_na <- round(sqrt(length(NA_Sales)))\n",
    "width_global <- (max_global_sales-min_global_sales)/num_global\n",
    "width_eu <- (max_eu_sales-min_eu_sales)/num_eu\n",
    "width_na <- (max_na_sales-min_na_sales)/num_na\n",
    "\n",
    "width_global<-ceiling(width_global)\n",
    "width_eu<-ceiling(width_eu)\n",
    "width_na<-ceiling(width_na)\n",
    "m<-matrix(0,4,4)\n",
    "m[1,1] = \"\" ; m[1,2] = \"wartosc minimalna przedzialu\"; m[1,3] = \"wartosc maksymalna przedzialu\"; m[1,4] = \"liczba przedzialow\" \n",
    "m[2,1] = \"sprzedaz globalna\"; m[2,2] = floor(min_global_sales); m[2,3] = ceiling(max_global_sales); m[2,4] = num_global\n",
    "m[3,1] = \"sprzedaz w europie\"; m[3,2] = floor(min_eu_sales); m[3,3] = ceiling(max_eu_sales); m[3,4] = num_eu\n",
    "m[4,1] = \"sprzedaz w ameryce polnocnej\"; m[4,2] = floor(min_na_sales); m[4,3]= ceiling(max_na_sales); m[4,4] = num_na\n",
    "m"
   ]
  },
  {
   "cell_type": "code",
   "execution_count": 15,
   "id": "ddc4586b",
   "metadata": {},
   "outputs": [
    {
     "name": "stdout",
     "output_type": "stream",
     "text": [
      "[1] \"Skonstruowane szeregi rozdzielcze, dla zwiekszenia czytelnosci wyswietle tylko jeden z nich:\"\n",
      "[1] \"2. Europa\"\n",
      "[1] \"(  0 ,  1  ]\"\n",
      "[1] \"(  1 ,  2  ]\"\n",
      "[1] \"(  2 ,  3  ]\"\n",
      "[1] \"(  3 ,  4  ]\"\n",
      "[1] \"(  4 ,  5  ]\"\n",
      "[1] \"(  5 ,  6  ]\"\n",
      "[1] \"(  6 ,  7  ]\"\n",
      "[1] \"(  7 ,  8  ]\"\n",
      "[1] \"(  8 ,  9  ]\"\n",
      "[1] \"(  9 ,  10  ]\"\n",
      "[1] \"(  10 ,  11  ]\"\n",
      "[1] \"(  11 ,  12  ]\"\n",
      "[1] \"(  12 ,  13  ]\"\n",
      "[1] \"(  13 ,  14  ]\"\n",
      "[1] \"(  14 ,  15  ]\"\n",
      "[1] \"(  15 ,  16  ]\"\n",
      "[1] \"(  16 ,  17  ]\"\n",
      "[1] \"(  17 ,  18  ]\"\n",
      "[1] \"(  18 ,  19  ]\"\n",
      "[1] \"(  19 ,  20  ]\"\n",
      "[1] \"(  20 ,  21  ]\"\n",
      "[1] \"(  21 ,  22  ]\"\n",
      "[1] \"(  22 ,  23  ]\"\n",
      "[1] \"(  23 ,  24  ]\"\n",
      "[1] \"(  24 ,  25  ]\"\n",
      "[1] \"(  25 ,  26  ]\"\n",
      "[1] \"(  26 ,  27  ]\"\n",
      "[1] \"(  27 ,  28  ]\"\n",
      "[1] \"(  28 ,  29  ]\"\n",
      "[1] \"(  29 ,  30  ]\"\n",
      "[1] \"(  30 ,  31  ]\"\n",
      "[1] \"(  31 ,  32  ]\"\n",
      "[1] \"(  32 ,  33  ]\"\n",
      "[1] \"(  33 ,  34  ]\"\n",
      "[1] \"(  34 ,  35  ]\"\n",
      "[1] \"(  35 ,  36  ]\"\n",
      "[1] \"(  36 ,  37  ]\"\n",
      "[1] \"(  37 ,  38  ]\"\n",
      "[1] \"(  38 ,  39  ]\"\n",
      "[1] \"(  39 ,  40  ]\"\n",
      "[1] \"(  40 ,  41  ]\"\n",
      "[1] \"(  41 ,  42  ]\"\n",
      "[1] \"(  42 ,  43  ]\"\n",
      "[1] \"(  43 ,  44  ]\"\n",
      "[1] \"(  44 ,  45  ]\"\n",
      "[1] \"(  45 ,  46  ]\"\n",
      "[1] \"(  46 ,  47  ]\"\n",
      "[1] \"(  47 ,  48  ]\"\n",
      "[1] \"(  48 ,  49  ]\"\n",
      "[1] \"(  49 ,  50  ]\"\n",
      "[1] \"(  50 ,  51  ]\"\n",
      "[1] \"(  51 ,  52  ]\"\n",
      "[1] \"(  52 ,  53  ]\"\n",
      "[1] \"(  53 ,  54  ]\"\n",
      "[1] \"(  54 ,  55  ]\"\n",
      "[1] \"(  55 ,  56  ]\"\n",
      "[1] \"(  56 ,  57  ]\"\n",
      "[1] \"(  57 ,  58  ]\"\n",
      "[1] \"(  58 ,  59  ]\"\n",
      "[1] \"(  59 ,  60  ]\"\n",
      "[1] \"(  60 ,  61  ]\"\n",
      "[1] \"(  61 ,  62  ]\"\n",
      "[1] \"(  62 ,  63  ]\"\n",
      "[1] \"(  63 ,  64  ]\"\n",
      "[1] \"(  64 ,  65  ]\"\n",
      "[1] \"(  65 ,  66  ]\"\n",
      "[1] \"(  66 ,  67  ]\"\n",
      "[1] \"(  67 ,  68  ]\"\n",
      "[1] \"(  68 ,  69  ]\"\n",
      "[1] \"(  69 ,  70  ]\"\n",
      "[1] \"(  70 ,  71  ]\"\n",
      "[1] \"(  71 ,  72  ]\"\n",
      "[1] \"(  72 ,  73  ]\"\n",
      "[1] \"(  73 ,  74  ]\"\n",
      "[1] \"(  74 ,  75  ]\"\n",
      "[1] \"(  75 ,  76  ]\"\n",
      "[1] \"(  76 ,  77  ]\"\n",
      "[1] \"(  77 ,  78  ]\"\n",
      "[1] \"(  78 ,  79  ]\"\n",
      "[1] \"(  79 ,  80  ]\"\n",
      "[1] \"(  80 ,  81  ]\"\n",
      "[1] \"(  81 ,  82  ]\"\n",
      "[1] \"(  82 ,  83  ]\"\n",
      "[1] \"(  83 ,  84  ]\"\n",
      "[1] \"(  84 ,  85  ]\"\n",
      "[1] \"(  85 ,  86  ]\"\n",
      "[1] \"(  86 ,  87  ]\"\n",
      "[1] \"(  87 ,  88  ]\"\n",
      "[1] \"(  88 ,  89  ]\"\n",
      "[1] \"(  89 ,  90  ]\"\n",
      "[1] \"(  90 ,  91  ]\"\n",
      "[1] \"(  91 ,  92  ]\"\n",
      "[1] \"(  92 ,  93  ]\"\n",
      "[1] \"(  93 ,  94  ]\"\n",
      "[1] \"(  94 ,  95  ]\"\n",
      "[1] \"(  95 ,  96  ]\"\n",
      "[1] \"(  96 ,  97  ]\"\n",
      "[1] \"(  97 ,  98  ]\"\n",
      "[1] \"(  98 ,  99  ]\"\n",
      "[1] \"(  99 ,  100  ]\"\n",
      "[1] \"(  100 ,  101  ]\"\n",
      "[1] \"(  101 ,  102  ]\"\n",
      "[1] \"(  102 ,  103  ]\"\n",
      "[1] \"(  103 ,  104  ]\"\n"
     ]
    }
   ],
   "source": [
    "print(\"Skonstruowane szeregi rozdzielcze, dla zwiększenia czytelności wyświetle tylko jeden z nich:\")\n",
    "\n",
    "wybierz<-\"europa\"\n",
    "\n",
    "if (wybierz == \"świat\") {\n",
    "print(\"1. Świat\")\n",
    "current_gl <- floor(min_global_sales)\n",
    "for (i in 1:num_global){\n",
    "    print(paste(\"( \", current_gl, \", \", current_gl+width_global, \" ]\"))\n",
    "    current_gl<-current_gl + width_global\n",
    "}\n",
    "    } else if (wybierz == \"europa\"){\n",
    "print(\"2. Europa\")\n",
    "current_eu <- floor(min_eu_sales)\n",
    "for (i in 1:num_eu){\n",
    "    print(paste(\"( \", current_eu, \", \", current_eu+width_eu, \" ]\"))\n",
    "    current_eu<-current_eu + width_eu\n",
    "}\n",
    "    } else if(wybierz == \"ameryka\") {\n",
    "print(\"3. Ameryka Polnocna\")\n",
    "current_na <- floor(min_na_sales)\n",
    "for (i in 1:num_na){\n",
    "    print(paste(\"( \", current_na, \", \", current_na+width_na, \" ]\"))\n",
    "    current_na<-current_na + width_na\n",
    "}\n",
    "        } else {\n",
    "            print(\"zły parametr\")\n",
    "        }"
   ]
  },
  {
   "cell_type": "markdown",
   "id": "2b2b7dc6",
   "metadata": {},
   "source": [
    "## 4.2 Pierwsze histogramy sprzedaży"
   ]
  },
  {
   "cell_type": "code",
   "execution_count": 16,
   "id": "7c39d5c9",
   "metadata": {},
   "outputs": [
    {
     "data": {
      "image/png": "[encoded data removed]",
      "text/plain": [
       "Plot with title \"sprzedaz na swiecie\""
      ]
     },
     "metadata": {
      "image/png": {
       "height": 420,
       "width": 420
      }
     },
     "output_type": "display_data"
    },
    {
     "data": {
      "image/png": "[encoded data removed]",
      "text/plain": [
       "Plot with title \"sprzedaz w europie\""
      ]
     },
     "metadata": {
      "image/png": {
       "height": 420,
       "width": 420
      }
     },
     "output_type": "display_data"
    },
    {
     "data": {
      "image/png": "[encoded data removed]",
      "text/plain": [
       "Plot with title \"sprzedaz w ameryce polnocnej\""
      ]
     },
     "metadata": {
      "image/png": {
       "height": 420,
       "width": 420
      }
     },
     "output_type": "display_data"
    }
   ],
   "source": [
    "create_histogram <- function(dane, number, title = \"histogram\", color=\"orange\"){\n",
    " hist(dane,xlim=c(floor(min(dane)),ceiling(max(dane))),breaks=number, main = title, xlab=\"Sprzedaż\",ylab=\"liczność\",col=color)   \n",
    "}\n",
    "create_histogram(Dane$Global_Sales, num_global,\"sprzedaz na swiecie\",\"darkblue\")\n",
    "create_histogram(EU_Sales,num_eu,\"sprzedaz w europie\")\n",
    "create_histogram(NA_Sales,num_na,\"sprzedaz w ameryce polnocnej\",\"brown\")"
   ]
  },
  {
   "cell_type": "markdown",
   "id": "6d915b46",
   "metadata": {},
   "source": [
    "W danych odzwierciedlonych na histogramach znajduje się wiele tytułów o niskiej ilości sprzedanych kopii np 0.01, a niewiele wartości dużych. Co wpływa na ich wygląd i małą czytelność. Spróbuję zmodyfikować wybrane dane."
   ]
  },
  {
   "cell_type": "markdown",
   "id": "a0f554ae",
   "metadata": {},
   "source": [
    "## 4.3 Druga wersja histogramów sprzedaży"
   ]
  },
  {
   "cell_type": "code",
   "execution_count": 17,
   "id": "fb52106d",
   "metadata": {},
   "outputs": [
    {
     "data": {
      "image/png": "[encoded data removed]",
      "text/plain": [
       "Plot with title \"histogram sprzedazy wybranych gier na swiecie\""
      ]
     },
     "metadata": {
      "image/png": {
       "height": 420,
       "width": 420
      }
     },
     "output_type": "display_data"
    },
    {
     "data": {
      "image/png": "[encoded data removed]",
      "text/plain": [
       "Plot with title \"histogram sprzedazy wybranych gier w europie\""
      ]
     },
     "metadata": {
      "image/png": {
       "height": 420,
       "width": 420
      }
     },
     "output_type": "display_data"
    },
    {
     "data": {
      "image/png": "[encoded data removed]",
      "text/plain": [
       "Plot with title \"histogram sprzedazy wybranych gier w ameryce polnocnej\""
      ]
     },
     "metadata": {
      "image/png": {
       "height": 420,
       "width": 420
      }
     },
     "output_type": "display_data"
    }
   ],
   "source": [
    "num_global <- round(sqrt(length(Global_Sales[Global_Sales>5])))\n",
    "num_eu <- round(sqrt(length(EU_Sales[EU_Sales>5])))\n",
    "num_na <- round(sqrt(length(NA_Sales[NA_Sales>5])))\n",
    "\n",
    "create_histogram(Global_Sales[Global_Sales>5],num_global,\"histogram sprzedazy wybranych gier na swiecie\",\"darkblue\")\n",
    "create_histogram(EU_Sales[EU_Sales>5],num_eu,\"histogram sprzedazy wybranych gier w europie\")\n",
    "create_histogram(NA_Sales[NA_Sales>5],num_na,\"histogram sprzedazy wybranych gier w ameryce polnocnej\",\"brown\")"
   ]
  },
  {
   "cell_type": "markdown",
   "id": "36447a74",
   "metadata": {},
   "source": [
    "Największe zróżnicowanie widać w sprzedaży gier na świecie, a najmniejsze w europie, co jest logiczną konsekwencją ogólnej ilości sprzedawanych gier na poszczególnych rynkach. W histogramie sprzedaży w ameryce jest lepiej widoczna tendencja spadkowa, prawdopodbnie dlatego, że dużo danych znajduje się na poziomie sprzedaży [5-10] miliona sprzedanych kopii. \"Dziura\" w histogramie prawdopodobnie wynika z małej liczby danych znajdujących się w przedziale [45-80) miliona sprzedanych kopii."
   ]
  },
  {
   "cell_type": "markdown",
   "id": "61a9969f",
   "metadata": {},
   "source": [
    "# 5. Histogramy dotyczące rankingu użytkowników"
   ]
  },
  {
   "cell_type": "code",
   "execution_count": 18,
   "id": "b33e8497",
   "metadata": {},
   "outputs": [
    {
     "data": {
      "image/png": "[encoded data removed]",
      "text/plain": [
       "Plot with title \"Oceny krytyków\""
      ]
     },
     "metadata": {
      "image/png": {
       "height": 420,
       "width": 420
      }
     },
     "output_type": "display_data"
    },
    {
     "data": {
      "image/png": "[encoded data removed]",
      "text/plain": [
       "Plot with title \"Oceny uzytkowników\""
      ]
     },
     "metadata": {
      "image/png": {
       "height": 420,
       "width": 420
      }
     },
     "output_type": "display_data"
    }
   ],
   "source": [
    "par(mfrow=c(1,1))\n",
    "hist(Critic_Score, main=\"Oceny krytyków\", breaks=10,xlab=\"Ocena\",ylab=\"liczność\",col=\"purple\")\n",
    "hist(User_Score*10, main=\"Oceny użytkowników\", breaks=10,xlab=\"Ocena\",ylab=\"liczność\",col=\"pink\")"
   ]
  },
  {
   "cell_type": "markdown",
   "id": "9f396aa3",
   "metadata": {},
   "source": [
    "Zastosowałam podział na 10 przedzialow, poniewaz jest to liczba, która ladnie dzieli skale [1-10] i [1-100]. Dla lepszego porownania przeskalowałam również skalę ocen użytkowników aby pasowała do skali ocen krytyków. Co nie powoduje żadnej znaczącej zmiany. Oba wykresy są zbliżone do rozkładu normalnego, ale są \"przesunięte\" w prawo w stosunku do niego. Co jest logiczną konsekwencją ujemnej skośności."
   ]
  },
  {
   "cell_type": "markdown",
   "id": "c6082502",
   "metadata": {},
   "source": [
    "# 6. Inne wykresy"
   ]
  },
  {
   "cell_type": "markdown",
   "id": "28274616",
   "metadata": {},
   "source": [
    "## 6.1 Podstawowe wykresy punktowe dotyczące ocen"
   ]
  },
  {
   "cell_type": "code",
   "execution_count": 19,
   "id": "d6d28a80",
   "metadata": {},
   "outputs": [
    {
     "data": {
      "image/png": "[encoded data removed]",
      "text/plain": [
       "Plot with title \"Oceny uzytkowników\""
      ]
     },
     "metadata": {
      "image/png": {
       "height": 420,
       "width": 420
      }
     },
     "output_type": "display_data"
    },
    {
     "data": {
      "image/png": "[encoded data removed]",
      "text/plain": [
       "Plot with title \"Oceny krytyków\""
      ]
     },
     "metadata": {
      "image/png": {
       "height": 420,
       "width": 420
      }
     },
     "output_type": "display_data"
    }
   ],
   "source": [
    "par(mfrow=c(1,1))\n",
    "plot(User_Score,col=\"pink\",main=\"Oceny użytkowników\")\n",
    "plot(Critic_Score,col=\"purple\", main=\"Oceny krytyków\")"
   ]
  },
  {
   "cell_type": "markdown",
   "id": "44572f37",
   "metadata": {},
   "source": [
    "Oba rodzaje ocen znajdują się w górnej części wykresu, co świadczy o tym, że zostały wzięte pod uwagę w większości gry z wysokimi ocenami.Świadczą o tym również wysokie sprzedaże, jednak oceny krytyków są minimalnie gorsze od ocen użytkowników."
   ]
  },
  {
   "cell_type": "markdown",
   "id": "73785b39",
   "metadata": {},
   "source": [
    "## 6.2 Podstawowe wykresu punktowe dotyczące sprzedaży"
   ]
  },
  {
   "cell_type": "code",
   "execution_count": 20,
   "id": "6dd13599",
   "metadata": {},
   "outputs": [
    {
     "data": {
      "image/png": "[encoded data removed]",
      "text/plain": [
       "Plot with title \"sprzedaz w innych miejscach na swiecie\""
      ]
     },
     "metadata": {
      "image/png": {
       "height": 420,
       "width": 420
      }
     },
     "output_type": "display_data"
    }
   ],
   "source": [
    "par(mfrow=c(2,2))\n",
    "plot(Global_Sales, col=\"darkblue\", main=\"Sprzedaż na świecie\")\n",
    "plot(NA_Sales, col =\"brown\", main = \"sprzedaż w ameryce północnej\")\n",
    "plot(EU_Sales, col=\"orange\", main=\"sprzedaż w europie\")\n",
    "plot(Other_Sales[Other_Sales>0], col=\"green\", main=\"sprzedaż w innych miejscach na świecie\")"
   ]
  },
  {
   "cell_type": "markdown",
   "id": "d9ad1e21",
   "metadata": {},
   "source": [
    "Rozkłady sprzedaży zdają się zbliżać do wyglądu funkcji f(x) = 1/x, co głównie widać na wykresie sprzedaży na świecie. Wynika to z faktu, że dane są posortowane względem sprzedaży na świecie, więc największa ilość sprzedanych kopii gier znajdzie się na początku wykresu, a najmniejsze wartości na samym końcu. Wpływa to również na wygląd pozostałych 4 wykresów, gdyż sprzedaże z innych części świata wliczają się w sprzedaże na świecie."
   ]
  },
  {
   "cell_type": "markdown",
   "id": "7a5d9771",
   "metadata": {},
   "source": [
    "## 6.3 Wykres kołowy opisujący sprzedaż na świecie"
   ]
  },
  {
   "cell_type": "code",
   "execution_count": 21,
   "id": "af8cf2fd",
   "metadata": {},
   "outputs": [
    {
     "data": {
      "image/png": "[encoded data removed]",
      "text/plain": [
       "Plot with title \"Porónanie sprzedazy w róznych miejscach na swiecie\""
      ]
     },
     "metadata": {
      "image/png": {
       "height": 420,
       "width": 420
      }
     },
     "output_type": "display_data"
    }
   ],
   "source": [
    "suma<-length(NA_Sales)+length(Other_Sales[Other_Sales>0])+length(EU_Sales)\n",
    "wskaznik<-100/suma\n",
    "wektor<-c(length(NA_Sales),length(EU_Sales),length(Other_Sales[Other_Sales>0]))*wskaznik\n",
    "pie(wektor,labels=paste(c(\"ameryka\",\"europa\",\"inne\"),round(wektor,2),\"%\"),main=\"Porónanie sprzedaży w różnych miejscach na świecie\",col=c(\"brown\",\"orange\",\"green\"))"
   ]
  },
  {
   "cell_type": "markdown",
   "id": "0f385ba7",
   "metadata": {},
   "source": [
    "W ameryce sprzedaje się większość kopii gier dostępnych na rynku. Biorąc pod uwagę fakt, że wszystkie dane dotyczące sprzedaży podane są w milionach, jest to już znacząca różnica pomiędzy resztą danych."
   ]
  },
  {
   "cell_type": "markdown",
   "id": "341f9bfb",
   "metadata": {},
   "source": [
    "# 7.Testy statystyczne"
   ]
  },
  {
   "cell_type": "markdown",
   "id": "07374c47",
   "metadata": {},
   "source": [
    "Przy tak dużej ilości danych na potrzeby testów założę, że moje dane są populacją i wybiorę próby, które będę wykorzystywać do testów. Zacznę od ocen użytkowników i wykonam test dotyczący średniej oceny użytkowników."
   ]
  },
  {
   "cell_type": "code",
   "execution_count": 22,
   "id": "2965b171",
   "metadata": {},
   "outputs": [
    {
     "data": {
      "image/png": "[encoded data removed]",
      "text/plain": [
       "Plot with title \"Oceny uzytkowników\""
      ]
     },
     "metadata": {
      "image/png": {
       "height": 420,
       "width": 420
      }
     },
     "output_type": "display_data"
    }
   ],
   "source": [
    "hist(User_Score*10, main=\"Oceny użytkowników\", breaks=10,xlab=\"Ocena\",ylab=\"liczność\",col=\"pink\")"
   ]
  },
  {
   "cell_type": "markdown",
   "id": "0d125d15",
   "metadata": {},
   "source": [
    "Mój rozkład jest mocno skośny, ale przypomina rozkład normalny."
   ]
  },
  {
   "cell_type": "markdown",
   "id": "a17c282a",
   "metadata": {},
   "source": [
    "## 7.1 wybór próby i test Z"
   ]
  },
  {
   "cell_type": "markdown",
   "id": "c23bbac7",
   "metadata": {},
   "source": [
    "Rozmiar 40 wydaję się idealnym do  tego typu testu i taki też zastosuje jako liczność próby wybranej z populacji do testu. Próba zostanie wygenerowana za pomocą generatora, który zostanie podany poniżej."
   ]
  },
  {
   "cell_type": "markdown",
   "id": "0ee7110c",
   "metadata": {},
   "source": [
    "Wybieram test Z, ponieważ mam spełnione założenia. Wybrałam dużą próbę ze znanej populacji, co oznacza, że znam wariancję, punkty zostały losowo wybrane i są od siebie niezależne, czyli wynik jednego punktu nie wpływa na inne.\n",
    "\n",
    "Pętla użyta do generowania danych:\n",
    "\n",
    "for(i in 1:40){\n",
    "\n",
    "proba[i]<-User_Score[runif(40,min=1,max=length(User_Score))]\n",
    "\n",
    "}\n",
    "\n",
    "Sprawdzam hipotezę, że oceny użytkowników są niższe niż średnia ocena użytkowników populacji. Gdzie średnia ocen wynosi: 7.126. Zakładam poziom istotności 0.05.\n",
    "\n",
    "H0: u = 7.126\n",
    "\n",
    "H1: u<7.126"
   ]
  },
  {
   "cell_type": "code",
   "execution_count": 23,
   "id": "a0b5efc8",
   "metadata": {},
   "outputs": [
    {
     "name": "stdout",
     "output_type": "stream",
     "text": [
      "[1] \"Wartosc statystyki Z:\"\n"
     ]
    },
    {
     "data": {
      "text/html": [
       "-1.95689678970367"
      ],
      "text/latex": [
       "-1.95689678970367"
      ],
      "text/markdown": [
       "-1.95689678970367"
      ],
      "text/plain": [
       "[1] -1.956897"
      ]
     },
     "metadata": {},
     "output_type": "display_data"
    },
    {
     "name": "stdout",
     "output_type": "stream",
     "text": [
      "[1] \"p-value:\"\n"
     ]
    },
    {
     "data": {
      "text/html": [
       "0.0251798020415347"
      ],
      "text/latex": [
       "0.0251798020415347"
      ],
      "text/markdown": [
       "0.0251798020415347"
      ],
      "text/plain": [
       "[1] 0.0251798"
      ]
     },
     "metadata": {},
     "output_type": "display_data"
    },
    {
     "name": "stdout",
     "output_type": "stream",
     "text": [
      "[1] \"wartosc krytyczna: \"\n"
     ]
    },
    {
     "data": {
      "text/html": [
       "-1.64485362695147"
      ],
      "text/latex": [
       "-1.64485362695147"
      ],
      "text/markdown": [
       "-1.64485362695147"
      ],
      "text/plain": [
       "[1] -1.644854"
      ]
     },
     "metadata": {},
     "output_type": "display_data"
    }
   ],
   "source": [
    "#proba<-array(0,dim=c(1,40))\n",
    "#for(i in 1:40){\n",
    "#    proba[i]<-User_Score[runif(1,min=1,max=length(User_Score))]\n",
    "#}\n",
    "proba<-c(8.2,6.2,7,5.4,4.7,6.5,3.1,8.1,8.2,6.1,6.6,3.7,9, 6.8,7,6.3,7.4,4.3, 4.8,6.6,7.3,5.4,7.5,7.8,5.2,5.7,7.6,7.9,8.8,7.7,7,6.1, 8.6,5.7,5.7,7.3,8.2,6,7.9,7.1)\n",
    "proba_mean<-mean(proba)\n",
    "odchylenie<-1.498\n",
    "Z<-(proba_mean-7.126)*sqrt(length(proba))/(odchylenie)\n",
    "print(\"Wartosc statystyki Z:\")\n",
    "Z\n",
    "print(\"p-value:\")\n",
    "pnorm(Z)\n",
    "print(\"wartość krytyczna: \")\n",
    "qnorm(0.05)"
   ]
  },
  {
   "cell_type": "markdown",
   "id": "a5c03ee6",
   "metadata": {},
   "source": [
    "Statystyka znajduje się w przedziale krytycznym, mogę odrzucić H0 na rzecz H1. Dodatkowo p-value jest mniejsze od alfy, więc mogę stwierdzić, że oceny wystawiane przez użytkowników są niższe od średniej."
   ]
  },
  {
   "cell_type": "markdown",
   "id": "c6dc6064",
   "metadata": {},
   "source": [
    "## 7.2 Test Z dla próby"
   ]
  },
  {
   "cell_type": "markdown",
   "id": "94f256f0",
   "metadata": {},
   "source": [
    "Zrobie teraz to samo dla losowo wybranej próby z ocen krytyków.\n",
    "\n",
    "Generator:\n",
    "\n",
    "for(i in 1:40){\n",
    "\n",
    "    crit[i]<-Critic_Score[runif(40,min=1,max=length(Critic_Score))]\n",
    "    \n",
    "}"
   ]
  },
  {
   "cell_type": "code",
   "execution_count": 24,
   "id": "7735b98d",
   "metadata": {},
   "outputs": [
    {
     "data": {
      "image/png": "[encoded data removed]",
      "text/plain": [
       "Plot with title \"Histogram ocen krytyków\""
      ]
     },
     "metadata": {
      "image/png": {
       "height": 420,
       "width": 420
      }
     },
     "output_type": "display_data"
    }
   ],
   "source": [
    "hist(Critic_Score,breaks=10,col=\"purple\",main=\"Histogram ocen krytyków\")"
   ]
  },
  {
   "cell_type": "markdown",
   "id": "72126068",
   "metadata": {},
   "source": [
    "Tutaj sytuacja wygląda zdecydowanie lepiej, co nie jest dziwne patrząc na to, że rozkład ocen krytyków przypomina rozkład normalny. Założę standardowy rozmiar n=40 i wybiorę losową próbkę danych."
   ]
  },
  {
   "cell_type": "code",
   "execution_count": 25,
   "id": "49e0f99d",
   "metadata": {},
   "outputs": [],
   "source": [
    "#crit<-array(0,dim=c(1,40))\n",
    "crit<-c(75 ,59 ,72 ,72 ,67,70 ,76 ,86 ,90 ,47 ,67 ,77 ,70 ,53 ,67 ,71 ,78 ,72 ,51,58 ,69 ,75 ,61, 87 ,44 ,86 ,43 ,70 ,84 ,73 ,57 ,71 ,75 ,59 ,47 ,66 ,81 ,69 ,33 ,66 )"
   ]
  },
  {
   "cell_type": "markdown",
   "id": "f23716ee",
   "metadata": {},
   "source": [
    "W tym teście sprawdzę czy oceny krytyków różnią się od średniej. Tym razem wybiorę alfa=0.08, średnia populacji wynosi 68.97, a odchylenie standardowe 13.94. Do tego cely wybiorę test Z, ponieważ zgadza się liczność próby n>30 i jak wyżej inne założenia są spełnione, a dodatkowo rozkład przypomina normalny."
   ]
  },
  {
   "cell_type": "code",
   "execution_count": 26,
   "id": "de8056bd",
   "metadata": {},
   "outputs": [
    {
     "name": "stdout",
     "output_type": "stream",
     "text": [
      "[1] \"wartosc statystyki:\"\n"
     ]
    },
    {
     "data": {
      "text/html": [
       "-0.734991364343298"
      ],
      "text/latex": [
       "-0.734991364343298"
      ],
      "text/markdown": [
       "-0.734991364343298"
      ],
      "text/plain": [
       "[1] -0.7349914"
      ]
     },
     "metadata": {},
     "output_type": "display_data"
    },
    {
     "name": "stdout",
     "output_type": "stream",
     "text": [
      "[1] \"wartosc krytcyzna:\"\n"
     ]
    },
    {
     "data": {
      "text/html": [
       "<span style=white-space:pre-wrap>'(-inf,  -1.75068607125217 ) , ( 1.75068607125217 , inf)'</span>"
      ],
      "text/latex": [
       "'(-inf,  -1.75068607125217 ) , ( 1.75068607125217 , inf)'"
      ],
      "text/markdown": [
       "<span style=white-space:pre-wrap>'(-inf,  -1.75068607125217 ) , ( 1.75068607125217 , inf)'</span>"
      ],
      "text/plain": [
       "[1] \"(-inf,  -1.75068607125217 ) , ( 1.75068607125217 , inf)\""
      ]
     },
     "metadata": {},
     "output_type": "display_data"
    }
   ],
   "source": [
    "alfa<-0.08\n",
    "srednia<-68.97\n",
    "od<-13.94\n",
    "Z<-(mean(crit)-68.97)*sqrt(length(crit))/(od)\n",
    "print(\"wartość statystyki:\")\n",
    "Z\n",
    "print(\"wartość krytcyzna:\")\n",
    "paste(\"(-inf, \", qnorm(alfa/2), \") , (\", qnorm(1-alfa/2), \", inf)\")"
   ]
  },
  {
   "cell_type": "markdown",
   "id": "8aaf8437",
   "metadata": {},
   "source": [
    "Statystyka nie należy do przedziału krytycznego, więc tym samym nie mogę odrzucić H0 na rzecz H1.\n",
    "Co jest prawdopodobnie prawdziwe, gdyż rozkład próby mocno przypomina rozkład populacji."
   ]
  },
  {
   "cell_type": "markdown",
   "id": "5d206137",
   "metadata": {},
   "source": [
    "## 7.3 Test dla zbiorowości niesparowanych, n>=30"
   ]
  },
  {
   "cell_type": "markdown",
   "id": "6553a2fe",
   "metadata": {},
   "source": [
    "Wykonam jeszcze jeden test, w którym sprawdzę czy użytkownicy wystawiają lepsze oceny niż krytycy i dla uproszczenia w obu miejscach przyjmę skale [1-100]. Poziom istotności założe 0.04.\n",
    "\n",
    "Wykonam test dla niesparowany dla dwóch zbiorowości i dużych populacji. (n>=30)\n",
    "\n",
    "H0: uużytkownik = ukrytyk\n",
    "\n",
    "H1: uużytownik > ukrytyk"
   ]
  },
  {
   "cell_type": "code",
   "execution_count": 27,
   "id": "dd35c40f",
   "metadata": {},
   "outputs": [],
   "source": [
    "User_Score<-10*User_Score\n",
    "var_user_score <- var(User_Score)"
   ]
  },
  {
   "cell_type": "code",
   "execution_count": 28,
   "id": "09f397e4",
   "metadata": {},
   "outputs": [
    {
     "name": "stdout",
     "output_type": "stream",
     "text": [
      "[1] \"statystyka Z:\"\n"
     ]
    },
    {
     "data": {
      "text/html": [
       "3.49805155283968"
      ],
      "text/latex": [
       "3.49805155283968"
      ],
      "text/markdown": [
       "3.49805155283968"
      ],
      "text/plain": [
       "[1] 3.498052"
      ]
     },
     "metadata": {},
     "output_type": "display_data"
    },
    {
     "name": "stdout",
     "output_type": "stream",
     "text": [
      "[1] \"p-value: \"\n"
     ]
    },
    {
     "data": {
      "text/html": [
       "0.000234335265188124"
      ],
      "text/latex": [
       "0.000234335265188124"
      ],
      "text/markdown": [
       "0.000234335265188124"
      ],
      "text/plain": [
       "[1] 0.0002343353"
      ]
     },
     "metadata": {},
     "output_type": "display_data"
    }
   ],
   "source": [
    "#Critic_Score\n",
    "#User_Score\n",
    "EX_critic<-length(Critic_Score[Critic_Score>mean_critic_score])/length(Critic_Score)\n",
    "EX_user <- length(User_Score[User_Score>10*mean_user_score])/length(User_Score)\n",
    "ODC <-EX_critic*(1-EX_critic)/length(Critic_Score)\n",
    "#ODC\n",
    "ODU<-EX_user*(1-EX_user)/length(User_Score)\n",
    "#ODU\n",
    "Z<-(EX_user-EX_critic)/(sqrt(ODC+ODU))\n",
    "\n",
    "print(\"statystyka Z:\")\n",
    "Z\n",
    "print(\"p-value: \")\n",
    "1-pnorm(Z)"
   ]
  },
  {
   "cell_type": "markdown",
   "id": "dedf9fb7",
   "metadata": {},
   "source": [
    "Otrzymana wartość statystyki i p-value (0.04>0.0002) pozwala odrzucić hipotezę zerową na rzecz H1, co oznacza, że użytkownicy wystawiają lepsze oceny grą niż krytycy. Jest to dość dobry wynik, gdyż znacznie zwiększając poziom istotności również doszłabym do tego samego wniosku."
   ]
  },
  {
   "cell_type": "markdown",
   "id": "58196d5a",
   "metadata": {},
   "source": [
    "# 8. Podsumowanie"
   ]
  },
  {
   "cell_type": "markdown",
   "id": "49ace2c8",
   "metadata": {},
   "source": [
    "Powyższa analiza wykazała, że użytkownicy w realnym stopniu wpływają na rynek gier. W dużym stopniu rozkład ocen przypomina rozkład normalny zarówno u ocen krytyków jak i w ocenach użytkowników. Dodatkowo widać, że sprzedaż rozkłada się w większości miejsc na świecie w podobny sposób. Dalej można by testować hipotezy o korelacji prób np. ocen krytyków i użytkowników, albo można sprawdzić jak oceny wpływają na sprzedaże w poszczególnych częściach świata. Dane są dośc uniwersalne, więc można znaleźć dużo przykładów. "
   ]
  }
 ],
 "metadata": {
  "kernelspec": {
   "display_name": "R",
   "language": "R",
   "name": "ir"
  },
  "language_info": {
   "codemirror_mode": "r",
   "file_extension": ".r",
   "mimetype": "text/x-r-source",
   "name": "R",
   "pygments_lexer": "r",
   "version": "4.0.5"
  }
 },
 "nbformat": 4,
 "nbformat_minor": 5
}
